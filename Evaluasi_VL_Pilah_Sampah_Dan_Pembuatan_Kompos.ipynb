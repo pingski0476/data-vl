{
  "nbformat": 4,
  "nbformat_minor": 0,
  "metadata": {
    "colab": {
      "name": "Evaluasi VL Pilah Sampah Dan Pembuatan Kompos.ipynb",
      "provenance": [],
      "collapsed_sections": [],
      "include_colab_link": true
    },
    "kernelspec": {
      "name": "python3",
      "display_name": "Python 3"
    },
    "language_info": {
      "name": "python"
    },
    "gpuClass": "standard"
  },
  "cells": [
    {
      "cell_type": "markdown",
      "metadata": {
        "id": "view-in-github",
        "colab_type": "text"
      },
      "source": [
        "<a href=\"https://colab.research.google.com/github/pingski0476/data-vl/blob/main/Evaluasi_VL_Pilah_Sampah_Dan_Pembuatan_Kompos.ipynb\" target=\"_parent\"><img src=\"https://colab.research.google.com/assets/colab-badge.svg\" alt=\"Open In Colab\"/></a>"
      ]
    },
    {
      "cell_type": "code",
      "execution_count": null,
      "metadata": {
        "id": "Gl-SYo0oBHpx"
      },
      "outputs": [],
      "source": [
        "import pandas as pd\n",
        "import numpy as np\n",
        "import statistics\n",
        "import string\n",
        "import re\n",
        "from sklearn.pipeline import Pipeline\n",
        "import matplotlib.pyplot as plt\n",
        "import plotly.express as px"
      ]
    },
    {
      "cell_type": "code",
      "source": [
        "df = pd.read_csv('https://raw.githubusercontent.com/MasayuAisyah/dataset/main/Evaluasi%20VL%20Pilah%20sampah%20dan%20pembuatan%20Kompos%20(Jawaban).csv?token=GHSAT0AAAAAABWLUDIMTW4M2S75QCOS2CLIYWHQILQ', sep=';')"
      ],
      "metadata": {
        "id": "jYqRYCSnBSyb"
      },
      "execution_count": null,
      "outputs": []
    },
    {
      "cell_type": "code",
      "source": [
        "df"
      ],
      "metadata": {
        "colab": {
          "base_uri": "https://localhost:8080/",
          "height": 783
        },
        "id": "ddz25pDWBc3q",
        "outputId": "43cec6ad-99a8-4200-e742-64ce85eb274d"
      },
      "execution_count": null,
      "outputs": [
        {
          "output_type": "execute_result",
          "data": {
            "text/plain": [
              "      Timestamp                     Nama_Lengkap  \\\n",
              "0   44743,42301                  Warsana,SP.M.Si   \n",
              "1   44743,42311                  Hidayat, S.IKom   \n",
              "2   44743,42342      NURHANDAYANI FATIMAH SILAEN   \n",
              "3   44743,42363                 Muh Al Muddatsir   \n",
              "4   44743,42371             Oky Kurniatama, S.Pt   \n",
              "..          ...                              ...   \n",
              "95  44743,58146  Drs. R. Bambang Heryanto, M.Sc.   \n",
              "96  44743,64026              ANDYA SAFRIZAL, SP    \n",
              "97  44743,76007          Yuda Prana, A.Md., S.T.   \n",
              "98  44743,88183         WIWIK YUNI ASTUTI, S.TP    \n",
              "99  44744,01041                  Syaifudin Zuhri   \n",
              "\n",
              "                       Alamat_Email         NoHp    Profesi/Pekerjaan  \\\n",
              "0            warsanaspmsi@gmail.com   8122853499   Penyuluh Pertanian   \n",
              "1                 hidayat@itb.ac.id  81220089407           Pustakawan   \n",
              "2    handayanisilaen14219@gmail.com  85261685989              Pegawai   \n",
              "3           almuddatsir18@gmail.com  89507402872            Mahasiswa   \n",
              "4            kurniatama19@gmail.com   8812431475                  PPL   \n",
              "..                              ...          ...                  ...   \n",
              "95             bbgait2001@gmail.com   8159476870             Peneliti   \n",
              "96         andya.safrizal@gmail.com  82165205032           Wirausaha    \n",
              "97  yuda.pranawiranagara@gmail.com   85603363900               Admin    \n",
              "98       yuniastuti.wiwik@gmail.com   8156720431  Penyuluh Pertanian    \n",
              "99               gadingsz@gmail.com  81371163731                  ASN   \n",
              "\n",
              "                      Asal_Instansi              Umur PendidikanTerakhir  \\\n",
              "0                  BPTP Jawa Tengah   Diatas 51 Tahun          S2 Keatas   \n",
              "1                               ITB   Diatas 51 Tahun                 S1   \n",
              "2                      Dinas pangan       21-30 Tahun                 S1   \n",
              "3   Universitas Hasanuddin Makassar  Dibawah 21 Tahun                 S1   \n",
              "4              Dinpertan dan pangan     31 - 40 Tahun                 S1   \n",
              "..                              ...               ...                ...   \n",
              "95                            BOSDM   Diatas 51 Tahun          S2 Keatas   \n",
              "96                             UsDa       21-30 Tahun                 S1   \n",
              "97                  Komunitas LSKN      31 - 40 Tahun                 S1   \n",
              "98    Dinas Pertanian Kab Boyolali    Diatas 51 Tahun                 S1   \n",
              "99          Stasiun KIPM Pekanbaru      41 - 50 Tahun                 S1   \n",
              "\n",
              "   Dari_mana_anda_mengetahui_acara_ini  \\\n",
              "0                             Whatsapp   \n",
              "1                             Whatsapp   \n",
              "2                            Instagram   \n",
              "3                            Instagram   \n",
              "4                             Whatsapp   \n",
              "..                                 ...   \n",
              "95                             Youtube   \n",
              "96                            YouTube    \n",
              "97                            Facebook   \n",
              "98                           Group W.A   \n",
              "99                            YouTube    \n",
              "\n",
              "   Media_yang_digunakan_dalam_mengikuti_acara_ini  ...  \\\n",
              "0                                          Laptop  ...   \n",
              "1                                        Komputer  ...   \n",
              "2                                          Laptop  ...   \n",
              "3                                       Handphone  ...   \n",
              "4                                       Handphone  ...   \n",
              "..                                            ...  ...   \n",
              "95                                       Komputer  ...   \n",
              "96                                      Handphone  ...   \n",
              "97                                      Handphone  ...   \n",
              "98                                      Handphone  ...   \n",
              "99                                       Komputer  ...   \n",
              "\n",
              "   Apabila_jawaban_no_3_ya,sudah_berapa_kali_anda_mengikuti_acara_tersebut  \\\n",
              "0                                          3 - 4 kali                        \n",
              "1                                          1 - 2 kali                        \n",
              "2                                          1 - 2 kali                        \n",
              "3                                          1 - 2 kali                        \n",
              "4                                          3 - 4 kali                        \n",
              "..                                                ...                        \n",
              "95                                           > 4 kali                        \n",
              "96                                           > 4 kali                        \n",
              "97                                         1 - 2 kali                        \n",
              "98                                         1 - 2 kali                        \n",
              "99                                           > 4 kali                        \n",
              "\n",
              "   Apabila_anda_baru_mengikuti_apa_yang_menyebabkan_anda_tertarik_mengikuti  \\\n",
              "0                                                 NaN                         \n",
              "1                                                 NaN                         \n",
              "2   Karena pemanfaatan kompos sangat baik dan sang...                         \n",
              "3                           Tertang pertanian organik                         \n",
              "4                                                 NaN                         \n",
              "..                                                ...                         \n",
              "95                                                NaN                         \n",
              "96                                                NaN                         \n",
              "97                                   Ilmu bermanfaat                          \n",
              "98                                          Judulnya                          \n",
              "99                                    Materinya bagus                         \n",
              "\n",
              "   Apa_manfaat_yang_dirasakan_setelah_mengikuti_acara_ini  \\\n",
              "0                                Menambah pengetahuan       \n",
              "1                                Menambah pengetahuan       \n",
              "2                                Menambah pengetahuan       \n",
              "3                                Menambah pengetahuan       \n",
              "4                                Menambah pengetahuan       \n",
              "..                                                ...       \n",
              "95                               Menambah pengetahuan       \n",
              "96                               Menambah pengetahuan       \n",
              "97                               Menambah pengetahuan       \n",
              "98                               Menambah pengetahuan       \n",
              "99                               Menambah pengetahuan       \n",
              "\n",
              "   Materi_yang_disampaikan_bermanfaat  \\\n",
              "0                                   4   \n",
              "1                                   4   \n",
              "2                                   4   \n",
              "3                                   4   \n",
              "4                                   4   \n",
              "..                                ...   \n",
              "95                                  4   \n",
              "96                                  3   \n",
              "97                                  4   \n",
              "98                                  4   \n",
              "99                                  4   \n",
              "\n",
              "    Materi_yang_disampaikan_sesuai_kebutuhan_anda  \\\n",
              "0                                               4   \n",
              "1                                               3   \n",
              "2                                               4   \n",
              "3                                               3   \n",
              "4                                               4   \n",
              "..                                            ...   \n",
              "95                                              4   \n",
              "96                                              3   \n",
              "97                                              4   \n",
              "98                                              4   \n",
              "99                                              4   \n",
              "\n",
              "    Penguasan_materi_oleh_narasumber  \\\n",
              "0                                  4   \n",
              "1                                  4   \n",
              "2                                  4   \n",
              "3                                  4   \n",
              "4                                  4   \n",
              "..                               ...   \n",
              "95                                 4   \n",
              "96                                 3   \n",
              "97                                 4   \n",
              "98                                 4   \n",
              "99                                 4   \n",
              "\n",
              "    Rencana_yang_akan_dilakukan_setelah_mengikuti_acara_ini  \\\n",
              "0                            Sudah pernah dipraktikan         \n",
              "1                                  Segera dipraktikan         \n",
              "2   Masih akan menambah pelatihan dan mengikuti ac...         \n",
              "3   Masih akan menambah pelatihan dan mengikuti ac...         \n",
              "4   Masih akan menambah pelatihan dan mengikuti ac...         \n",
              "..                                                ...         \n",
              "95  Masih akan menambah pelatihan dan mengikuti ac...         \n",
              "96                                 Segera dipraktikan         \n",
              "97  Masih akan menambah pelatihan dan mengikuti ac...         \n",
              "98                                 Segera dipraktikan         \n",
              "99  Masih akan menambah pelatihan dan mengikuti ac...         \n",
              "\n",
              "   Kualitas_teknis_pelaksanaan_live_video_pertanian(suara,video,dll)  \\\n",
              "0                                                   3                  \n",
              "1                                                   4                  \n",
              "2                                                   4                  \n",
              "3                                                   2                  \n",
              "4                                                   3                  \n",
              "..                                                ...                  \n",
              "95                                                  4                  \n",
              "96                                                  4                  \n",
              "97                                                  4                  \n",
              "98                                                  3                  \n",
              "99                                                  4                  \n",
              "\n",
              "    Saat_mengikuti_kegiatan_secara_daring_ini_apakah_ada_kendala_teknis_yang_anda_alami  \\\n",
              "0                                           tidak ada                                     \n",
              "1               tidak ada kendala semua berjalan baik                                     \n",
              "2                                               Tidak                                     \n",
              "3                                    Kendala jaringan                                     \n",
              "4               Resolusi gambar terkadang putus-putus                                     \n",
              "..                                                ...                                     \n",
              "95                                Sementara tidak ada                                     \n",
              "96                                         Tidak ada                                      \n",
              "97                                             Kuota                                      \n",
              "98                           Sinyal yang tidak stabil                                     \n",
              "99                                        Sudah bagus                                     \n",
              "\n",
              "                                      SaranDanMasukan  \n",
              "0    Kegiatan perlu dilakukan secara berkesinambungan  \n",
              "1   Mudah-mudahan kedepan ada workwhop materi terkait  \n",
              "2                                                 NaN  \n",
              "3   Semoga dapat di terapkan pada pertanian khusus...  \n",
              "4                          Informatif dan komunikatif  \n",
              "..                                                ...  \n",
              "95  Acara webinar ini sudah bagus bisa dilanjutkan...  \n",
              "96                Lebih bagus lagi untuk ke depannya   \n",
              "97                                        Sudah baik   \n",
              "98         Waktu agar di agendakan pada Jam sore hari  \n",
              "99                                     Sukses selalu   \n",
              "\n",
              "[100 rows x 21 columns]"
            ],
            "text/html": [
              "\n",
              "  <div id=\"df-0b7ab1b0-c0e2-4ddd-bece-ed277d5dec29\">\n",
              "    <div class=\"colab-df-container\">\n",
              "      <div>\n",
              "<style scoped>\n",
              "    .dataframe tbody tr th:only-of-type {\n",
              "        vertical-align: middle;\n",
              "    }\n",
              "\n",
              "    .dataframe tbody tr th {\n",
              "        vertical-align: top;\n",
              "    }\n",
              "\n",
              "    .dataframe thead th {\n",
              "        text-align: right;\n",
              "    }\n",
              "</style>\n",
              "<table border=\"1\" class=\"dataframe\">\n",
              "  <thead>\n",
              "    <tr style=\"text-align: right;\">\n",
              "      <th></th>\n",
              "      <th>Timestamp</th>\n",
              "      <th>Nama_Lengkap</th>\n",
              "      <th>Alamat_Email</th>\n",
              "      <th>NoHp</th>\n",
              "      <th>Profesi/Pekerjaan</th>\n",
              "      <th>Asal_Instansi</th>\n",
              "      <th>Umur</th>\n",
              "      <th>PendidikanTerakhir</th>\n",
              "      <th>Dari_mana_anda_mengetahui_acara_ini</th>\n",
              "      <th>Media_yang_digunakan_dalam_mengikuti_acara_ini</th>\n",
              "      <th>...</th>\n",
              "      <th>Apabila_jawaban_no_3_ya,sudah_berapa_kali_anda_mengikuti_acara_tersebut</th>\n",
              "      <th>Apabila_anda_baru_mengikuti_apa_yang_menyebabkan_anda_tertarik_mengikuti</th>\n",
              "      <th>Apa_manfaat_yang_dirasakan_setelah_mengikuti_acara_ini</th>\n",
              "      <th>Materi_yang_disampaikan_bermanfaat</th>\n",
              "      <th>Materi_yang_disampaikan_sesuai_kebutuhan_anda</th>\n",
              "      <th>Penguasan_materi_oleh_narasumber</th>\n",
              "      <th>Rencana_yang_akan_dilakukan_setelah_mengikuti_acara_ini</th>\n",
              "      <th>Kualitas_teknis_pelaksanaan_live_video_pertanian(suara,video,dll)</th>\n",
              "      <th>Saat_mengikuti_kegiatan_secara_daring_ini_apakah_ada_kendala_teknis_yang_anda_alami</th>\n",
              "      <th>SaranDanMasukan</th>\n",
              "    </tr>\n",
              "  </thead>\n",
              "  <tbody>\n",
              "    <tr>\n",
              "      <th>0</th>\n",
              "      <td>44743,42301</td>\n",
              "      <td>Warsana,SP.M.Si</td>\n",
              "      <td>warsanaspmsi@gmail.com</td>\n",
              "      <td>8122853499</td>\n",
              "      <td>Penyuluh Pertanian</td>\n",
              "      <td>BPTP Jawa Tengah</td>\n",
              "      <td>Diatas 51 Tahun</td>\n",
              "      <td>S2 Keatas</td>\n",
              "      <td>Whatsapp</td>\n",
              "      <td>Laptop</td>\n",
              "      <td>...</td>\n",
              "      <td>3 - 4 kali</td>\n",
              "      <td>NaN</td>\n",
              "      <td>Menambah pengetahuan</td>\n",
              "      <td>4</td>\n",
              "      <td>4</td>\n",
              "      <td>4</td>\n",
              "      <td>Sudah pernah dipraktikan</td>\n",
              "      <td>3</td>\n",
              "      <td>tidak ada</td>\n",
              "      <td>Kegiatan perlu dilakukan secara berkesinambungan</td>\n",
              "    </tr>\n",
              "    <tr>\n",
              "      <th>1</th>\n",
              "      <td>44743,42311</td>\n",
              "      <td>Hidayat, S.IKom</td>\n",
              "      <td>hidayat@itb.ac.id</td>\n",
              "      <td>81220089407</td>\n",
              "      <td>Pustakawan</td>\n",
              "      <td>ITB</td>\n",
              "      <td>Diatas 51 Tahun</td>\n",
              "      <td>S1</td>\n",
              "      <td>Whatsapp</td>\n",
              "      <td>Komputer</td>\n",
              "      <td>...</td>\n",
              "      <td>1 - 2 kali</td>\n",
              "      <td>NaN</td>\n",
              "      <td>Menambah pengetahuan</td>\n",
              "      <td>4</td>\n",
              "      <td>3</td>\n",
              "      <td>4</td>\n",
              "      <td>Segera dipraktikan</td>\n",
              "      <td>4</td>\n",
              "      <td>tidak ada kendala semua berjalan baik</td>\n",
              "      <td>Mudah-mudahan kedepan ada workwhop materi terkait</td>\n",
              "    </tr>\n",
              "    <tr>\n",
              "      <th>2</th>\n",
              "      <td>44743,42342</td>\n",
              "      <td>NURHANDAYANI FATIMAH SILAEN</td>\n",
              "      <td>handayanisilaen14219@gmail.com</td>\n",
              "      <td>85261685989</td>\n",
              "      <td>Pegawai</td>\n",
              "      <td>Dinas pangan</td>\n",
              "      <td>21-30 Tahun</td>\n",
              "      <td>S1</td>\n",
              "      <td>Instagram</td>\n",
              "      <td>Laptop</td>\n",
              "      <td>...</td>\n",
              "      <td>1 - 2 kali</td>\n",
              "      <td>Karena pemanfaatan kompos sangat baik dan sang...</td>\n",
              "      <td>Menambah pengetahuan</td>\n",
              "      <td>4</td>\n",
              "      <td>4</td>\n",
              "      <td>4</td>\n",
              "      <td>Masih akan menambah pelatihan dan mengikuti ac...</td>\n",
              "      <td>4</td>\n",
              "      <td>Tidak</td>\n",
              "      <td>NaN</td>\n",
              "    </tr>\n",
              "    <tr>\n",
              "      <th>3</th>\n",
              "      <td>44743,42363</td>\n",
              "      <td>Muh Al Muddatsir</td>\n",
              "      <td>almuddatsir18@gmail.com</td>\n",
              "      <td>89507402872</td>\n",
              "      <td>Mahasiswa</td>\n",
              "      <td>Universitas Hasanuddin Makassar</td>\n",
              "      <td>Dibawah 21 Tahun</td>\n",
              "      <td>S1</td>\n",
              "      <td>Instagram</td>\n",
              "      <td>Handphone</td>\n",
              "      <td>...</td>\n",
              "      <td>1 - 2 kali</td>\n",
              "      <td>Tertang pertanian organik</td>\n",
              "      <td>Menambah pengetahuan</td>\n",
              "      <td>4</td>\n",
              "      <td>3</td>\n",
              "      <td>4</td>\n",
              "      <td>Masih akan menambah pelatihan dan mengikuti ac...</td>\n",
              "      <td>2</td>\n",
              "      <td>Kendala jaringan</td>\n",
              "      <td>Semoga dapat di terapkan pada pertanian khusus...</td>\n",
              "    </tr>\n",
              "    <tr>\n",
              "      <th>4</th>\n",
              "      <td>44743,42371</td>\n",
              "      <td>Oky Kurniatama, S.Pt</td>\n",
              "      <td>kurniatama19@gmail.com</td>\n",
              "      <td>8812431475</td>\n",
              "      <td>PPL</td>\n",
              "      <td>Dinpertan dan pangan</td>\n",
              "      <td>31 - 40 Tahun</td>\n",
              "      <td>S1</td>\n",
              "      <td>Whatsapp</td>\n",
              "      <td>Handphone</td>\n",
              "      <td>...</td>\n",
              "      <td>3 - 4 kali</td>\n",
              "      <td>NaN</td>\n",
              "      <td>Menambah pengetahuan</td>\n",
              "      <td>4</td>\n",
              "      <td>4</td>\n",
              "      <td>4</td>\n",
              "      <td>Masih akan menambah pelatihan dan mengikuti ac...</td>\n",
              "      <td>3</td>\n",
              "      <td>Resolusi gambar terkadang putus-putus</td>\n",
              "      <td>Informatif dan komunikatif</td>\n",
              "    </tr>\n",
              "    <tr>\n",
              "      <th>...</th>\n",
              "      <td>...</td>\n",
              "      <td>...</td>\n",
              "      <td>...</td>\n",
              "      <td>...</td>\n",
              "      <td>...</td>\n",
              "      <td>...</td>\n",
              "      <td>...</td>\n",
              "      <td>...</td>\n",
              "      <td>...</td>\n",
              "      <td>...</td>\n",
              "      <td>...</td>\n",
              "      <td>...</td>\n",
              "      <td>...</td>\n",
              "      <td>...</td>\n",
              "      <td>...</td>\n",
              "      <td>...</td>\n",
              "      <td>...</td>\n",
              "      <td>...</td>\n",
              "      <td>...</td>\n",
              "      <td>...</td>\n",
              "      <td>...</td>\n",
              "    </tr>\n",
              "    <tr>\n",
              "      <th>95</th>\n",
              "      <td>44743,58146</td>\n",
              "      <td>Drs. R. Bambang Heryanto, M.Sc.</td>\n",
              "      <td>bbgait2001@gmail.com</td>\n",
              "      <td>8159476870</td>\n",
              "      <td>Peneliti</td>\n",
              "      <td>BOSDM</td>\n",
              "      <td>Diatas 51 Tahun</td>\n",
              "      <td>S2 Keatas</td>\n",
              "      <td>Youtube</td>\n",
              "      <td>Komputer</td>\n",
              "      <td>...</td>\n",
              "      <td>&gt; 4 kali</td>\n",
              "      <td>NaN</td>\n",
              "      <td>Menambah pengetahuan</td>\n",
              "      <td>4</td>\n",
              "      <td>4</td>\n",
              "      <td>4</td>\n",
              "      <td>Masih akan menambah pelatihan dan mengikuti ac...</td>\n",
              "      <td>4</td>\n",
              "      <td>Sementara tidak ada</td>\n",
              "      <td>Acara webinar ini sudah bagus bisa dilanjutkan...</td>\n",
              "    </tr>\n",
              "    <tr>\n",
              "      <th>96</th>\n",
              "      <td>44743,64026</td>\n",
              "      <td>ANDYA SAFRIZAL, SP</td>\n",
              "      <td>andya.safrizal@gmail.com</td>\n",
              "      <td>82165205032</td>\n",
              "      <td>Wirausaha</td>\n",
              "      <td>UsDa</td>\n",
              "      <td>21-30 Tahun</td>\n",
              "      <td>S1</td>\n",
              "      <td>YouTube</td>\n",
              "      <td>Handphone</td>\n",
              "      <td>...</td>\n",
              "      <td>&gt; 4 kali</td>\n",
              "      <td>NaN</td>\n",
              "      <td>Menambah pengetahuan</td>\n",
              "      <td>3</td>\n",
              "      <td>3</td>\n",
              "      <td>3</td>\n",
              "      <td>Segera dipraktikan</td>\n",
              "      <td>4</td>\n",
              "      <td>Tidak ada</td>\n",
              "      <td>Lebih bagus lagi untuk ke depannya</td>\n",
              "    </tr>\n",
              "    <tr>\n",
              "      <th>97</th>\n",
              "      <td>44743,76007</td>\n",
              "      <td>Yuda Prana, A.Md., S.T.</td>\n",
              "      <td>yuda.pranawiranagara@gmail.com</td>\n",
              "      <td>85603363900</td>\n",
              "      <td>Admin</td>\n",
              "      <td>Komunitas LSKN</td>\n",
              "      <td>31 - 40 Tahun</td>\n",
              "      <td>S1</td>\n",
              "      <td>Facebook</td>\n",
              "      <td>Handphone</td>\n",
              "      <td>...</td>\n",
              "      <td>1 - 2 kali</td>\n",
              "      <td>Ilmu bermanfaat</td>\n",
              "      <td>Menambah pengetahuan</td>\n",
              "      <td>4</td>\n",
              "      <td>4</td>\n",
              "      <td>4</td>\n",
              "      <td>Masih akan menambah pelatihan dan mengikuti ac...</td>\n",
              "      <td>4</td>\n",
              "      <td>Kuota</td>\n",
              "      <td>Sudah baik</td>\n",
              "    </tr>\n",
              "    <tr>\n",
              "      <th>98</th>\n",
              "      <td>44743,88183</td>\n",
              "      <td>WIWIK YUNI ASTUTI, S.TP</td>\n",
              "      <td>yuniastuti.wiwik@gmail.com</td>\n",
              "      <td>8156720431</td>\n",
              "      <td>Penyuluh Pertanian</td>\n",
              "      <td>Dinas Pertanian Kab Boyolali</td>\n",
              "      <td>Diatas 51 Tahun</td>\n",
              "      <td>S1</td>\n",
              "      <td>Group W.A</td>\n",
              "      <td>Handphone</td>\n",
              "      <td>...</td>\n",
              "      <td>1 - 2 kali</td>\n",
              "      <td>Judulnya</td>\n",
              "      <td>Menambah pengetahuan</td>\n",
              "      <td>4</td>\n",
              "      <td>4</td>\n",
              "      <td>4</td>\n",
              "      <td>Segera dipraktikan</td>\n",
              "      <td>3</td>\n",
              "      <td>Sinyal yang tidak stabil</td>\n",
              "      <td>Waktu agar di agendakan pada Jam sore hari</td>\n",
              "    </tr>\n",
              "    <tr>\n",
              "      <th>99</th>\n",
              "      <td>44744,01041</td>\n",
              "      <td>Syaifudin Zuhri</td>\n",
              "      <td>gadingsz@gmail.com</td>\n",
              "      <td>81371163731</td>\n",
              "      <td>ASN</td>\n",
              "      <td>Stasiun KIPM Pekanbaru</td>\n",
              "      <td>41 - 50 Tahun</td>\n",
              "      <td>S1</td>\n",
              "      <td>YouTube</td>\n",
              "      <td>Komputer</td>\n",
              "      <td>...</td>\n",
              "      <td>&gt; 4 kali</td>\n",
              "      <td>Materinya bagus</td>\n",
              "      <td>Menambah pengetahuan</td>\n",
              "      <td>4</td>\n",
              "      <td>4</td>\n",
              "      <td>4</td>\n",
              "      <td>Masih akan menambah pelatihan dan mengikuti ac...</td>\n",
              "      <td>4</td>\n",
              "      <td>Sudah bagus</td>\n",
              "      <td>Sukses selalu</td>\n",
              "    </tr>\n",
              "  </tbody>\n",
              "</table>\n",
              "<p>100 rows × 21 columns</p>\n",
              "</div>\n",
              "      <button class=\"colab-df-convert\" onclick=\"convertToInteractive('df-0b7ab1b0-c0e2-4ddd-bece-ed277d5dec29')\"\n",
              "              title=\"Convert this dataframe to an interactive table.\"\n",
              "              style=\"display:none;\">\n",
              "        \n",
              "  <svg xmlns=\"http://www.w3.org/2000/svg\" height=\"24px\"viewBox=\"0 0 24 24\"\n",
              "       width=\"24px\">\n",
              "    <path d=\"M0 0h24v24H0V0z\" fill=\"none\"/>\n",
              "    <path d=\"M18.56 5.44l.94 2.06.94-2.06 2.06-.94-2.06-.94-.94-2.06-.94 2.06-2.06.94zm-11 1L8.5 8.5l.94-2.06 2.06-.94-2.06-.94L8.5 2.5l-.94 2.06-2.06.94zm10 10l.94 2.06.94-2.06 2.06-.94-2.06-.94-.94-2.06-.94 2.06-2.06.94z\"/><path d=\"M17.41 7.96l-1.37-1.37c-.4-.4-.92-.59-1.43-.59-.52 0-1.04.2-1.43.59L10.3 9.45l-7.72 7.72c-.78.78-.78 2.05 0 2.83L4 21.41c.39.39.9.59 1.41.59.51 0 1.02-.2 1.41-.59l7.78-7.78 2.81-2.81c.8-.78.8-2.07 0-2.86zM5.41 20L4 18.59l7.72-7.72 1.47 1.35L5.41 20z\"/>\n",
              "  </svg>\n",
              "      </button>\n",
              "      \n",
              "  <style>\n",
              "    .colab-df-container {\n",
              "      display:flex;\n",
              "      flex-wrap:wrap;\n",
              "      gap: 12px;\n",
              "    }\n",
              "\n",
              "    .colab-df-convert {\n",
              "      background-color: #E8F0FE;\n",
              "      border: none;\n",
              "      border-radius: 50%;\n",
              "      cursor: pointer;\n",
              "      display: none;\n",
              "      fill: #1967D2;\n",
              "      height: 32px;\n",
              "      padding: 0 0 0 0;\n",
              "      width: 32px;\n",
              "    }\n",
              "\n",
              "    .colab-df-convert:hover {\n",
              "      background-color: #E2EBFA;\n",
              "      box-shadow: 0px 1px 2px rgba(60, 64, 67, 0.3), 0px 1px 3px 1px rgba(60, 64, 67, 0.15);\n",
              "      fill: #174EA6;\n",
              "    }\n",
              "\n",
              "    [theme=dark] .colab-df-convert {\n",
              "      background-color: #3B4455;\n",
              "      fill: #D2E3FC;\n",
              "    }\n",
              "\n",
              "    [theme=dark] .colab-df-convert:hover {\n",
              "      background-color: #434B5C;\n",
              "      box-shadow: 0px 1px 3px 1px rgba(0, 0, 0, 0.15);\n",
              "      filter: drop-shadow(0px 1px 2px rgba(0, 0, 0, 0.3));\n",
              "      fill: #FFFFFF;\n",
              "    }\n",
              "  </style>\n",
              "\n",
              "      <script>\n",
              "        const buttonEl =\n",
              "          document.querySelector('#df-0b7ab1b0-c0e2-4ddd-bece-ed277d5dec29 button.colab-df-convert');\n",
              "        buttonEl.style.display =\n",
              "          google.colab.kernel.accessAllowed ? 'block' : 'none';\n",
              "\n",
              "        async function convertToInteractive(key) {\n",
              "          const element = document.querySelector('#df-0b7ab1b0-c0e2-4ddd-bece-ed277d5dec29');\n",
              "          const dataTable =\n",
              "            await google.colab.kernel.invokeFunction('convertToInteractive',\n",
              "                                                     [key], {});\n",
              "          if (!dataTable) return;\n",
              "\n",
              "          const docLinkHtml = 'Like what you see? Visit the ' +\n",
              "            '<a target=\"_blank\" href=https://colab.research.google.com/notebooks/data_table.ipynb>data table notebook</a>'\n",
              "            + ' to learn more about interactive tables.';\n",
              "          element.innerHTML = '';\n",
              "          dataTable['output_type'] = 'display_data';\n",
              "          await google.colab.output.renderOutput(dataTable, element);\n",
              "          const docLink = document.createElement('div');\n",
              "          docLink.innerHTML = docLinkHtml;\n",
              "          element.appendChild(docLink);\n",
              "        }\n",
              "      </script>\n",
              "    </div>\n",
              "  </div>\n",
              "  "
            ]
          },
          "metadata": {},
          "execution_count": 3
        }
      ]
    },
    {
      "cell_type": "code",
      "source": [
        "df.info()"
      ],
      "metadata": {
        "colab": {
          "base_uri": "https://localhost:8080/"
        },
        "id": "dWTKCC6wC7N-",
        "outputId": "660dd365-6040-465f-ad4c-708f881ecf3c"
      },
      "execution_count": null,
      "outputs": [
        {
          "output_type": "stream",
          "name": "stdout",
          "text": [
            "<class 'pandas.core.frame.DataFrame'>\n",
            "RangeIndex: 100 entries, 0 to 99\n",
            "Data columns (total 21 columns):\n",
            " #   Column                                                                                       Non-Null Count  Dtype \n",
            "---  ------                                                                                       --------------  ----- \n",
            " 0   Timestamp                                                                                    100 non-null    object\n",
            " 1   Nama_Lengkap                                                                                 100 non-null    object\n",
            " 2   Alamat_Email                                                                                 100 non-null    object\n",
            " 3   NoHp                                                                                         100 non-null    int64 \n",
            " 4   Profesi/Pekerjaan                                                                            100 non-null    object\n",
            " 5   Asal_Instansi                                                                                100 non-null    object\n",
            " 6   Umur                                                                                         100 non-null    object\n",
            " 7   PendidikanTerakhir                                                                           100 non-null    object\n",
            " 8   Dari_mana_anda_mengetahui_acara_ini                                                          100 non-null    object\n",
            " 9   Media_yang_digunakan_dalam_mengikuti_acara_ini                                               100 non-null    object\n",
            " 10  Apakah_anda_sudah_pernah_mengikuti_acara_live_video_yang_diselenggarakan_pustaka_sebelumnya  100 non-null    object\n",
            " 11  Apabila_jawaban_no_3_ya,sudah_berapa_kali_anda_mengikuti_acara_tersebut                      82 non-null     object\n",
            " 12  Apabila_anda_baru_mengikuti_apa_yang_menyebabkan_anda_tertarik_mengikuti                     70 non-null     object\n",
            " 13  Apa_manfaat_yang_dirasakan_setelah_mengikuti_acara_ini                                       100 non-null    object\n",
            " 14  Materi_yang_disampaikan_bermanfaat                                                           100 non-null    int64 \n",
            " 15  Materi_yang_disampaikan_sesuai_kebutuhan_anda                                                100 non-null    int64 \n",
            " 16  Penguasan_materi_oleh_narasumber                                                             100 non-null    int64 \n",
            " 17  Rencana_yang_akan_dilakukan_setelah_mengikuti_acara_ini                                      100 non-null    object\n",
            " 18  Kualitas_teknis_pelaksanaan_live_video_pertanian(suara,video,dll)                            100 non-null    int64 \n",
            " 19  Saat_mengikuti_kegiatan_secara_daring_ini_apakah_ada_kendala_teknis_yang_anda_alami          100 non-null    object\n",
            " 20  SaranDanMasukan                                                                              93 non-null     object\n",
            "dtypes: int64(5), object(16)\n",
            "memory usage: 16.5+ KB\n"
          ]
        }
      ]
    },
    {
      "cell_type": "markdown",
      "source": [
        "#Sebaran Profesi dan Usia"
      ],
      "metadata": {
        "id": "evHcmjm2Lzlr"
      }
    },
    {
      "cell_type": "code",
      "source": [
        "df.loc[:, [\"Profesi/Pekerjaan\", \"Umur\"]]"
      ],
      "metadata": {
        "colab": {
          "base_uri": "https://localhost:8080/",
          "height": 424
        },
        "id": "NR74nL0qH4hk",
        "outputId": "1bee7cad-2931-4998-c2ce-36adf7d04364"
      },
      "execution_count": null,
      "outputs": [
        {
          "output_type": "execute_result",
          "data": {
            "text/plain": [
              "      Profesi/Pekerjaan              Umur\n",
              "0    Penyuluh Pertanian   Diatas 51 Tahun\n",
              "1            Pustakawan   Diatas 51 Tahun\n",
              "2               Pegawai       21-30 Tahun\n",
              "3             Mahasiswa  Dibawah 21 Tahun\n",
              "4                   PPL     31 - 40 Tahun\n",
              "..                  ...               ...\n",
              "95             Peneliti   Diatas 51 Tahun\n",
              "96           Wirausaha        21-30 Tahun\n",
              "97               Admin      31 - 40 Tahun\n",
              "98  Penyuluh Pertanian    Diatas 51 Tahun\n",
              "99                  ASN     41 - 50 Tahun\n",
              "\n",
              "[100 rows x 2 columns]"
            ],
            "text/html": [
              "\n",
              "  <div id=\"df-b00d4fb2-a732-4d37-87dc-87282ba8bf1b\">\n",
              "    <div class=\"colab-df-container\">\n",
              "      <div>\n",
              "<style scoped>\n",
              "    .dataframe tbody tr th:only-of-type {\n",
              "        vertical-align: middle;\n",
              "    }\n",
              "\n",
              "    .dataframe tbody tr th {\n",
              "        vertical-align: top;\n",
              "    }\n",
              "\n",
              "    .dataframe thead th {\n",
              "        text-align: right;\n",
              "    }\n",
              "</style>\n",
              "<table border=\"1\" class=\"dataframe\">\n",
              "  <thead>\n",
              "    <tr style=\"text-align: right;\">\n",
              "      <th></th>\n",
              "      <th>Profesi/Pekerjaan</th>\n",
              "      <th>Umur</th>\n",
              "    </tr>\n",
              "  </thead>\n",
              "  <tbody>\n",
              "    <tr>\n",
              "      <th>0</th>\n",
              "      <td>Penyuluh Pertanian</td>\n",
              "      <td>Diatas 51 Tahun</td>\n",
              "    </tr>\n",
              "    <tr>\n",
              "      <th>1</th>\n",
              "      <td>Pustakawan</td>\n",
              "      <td>Diatas 51 Tahun</td>\n",
              "    </tr>\n",
              "    <tr>\n",
              "      <th>2</th>\n",
              "      <td>Pegawai</td>\n",
              "      <td>21-30 Tahun</td>\n",
              "    </tr>\n",
              "    <tr>\n",
              "      <th>3</th>\n",
              "      <td>Mahasiswa</td>\n",
              "      <td>Dibawah 21 Tahun</td>\n",
              "    </tr>\n",
              "    <tr>\n",
              "      <th>4</th>\n",
              "      <td>PPL</td>\n",
              "      <td>31 - 40 Tahun</td>\n",
              "    </tr>\n",
              "    <tr>\n",
              "      <th>...</th>\n",
              "      <td>...</td>\n",
              "      <td>...</td>\n",
              "    </tr>\n",
              "    <tr>\n",
              "      <th>95</th>\n",
              "      <td>Peneliti</td>\n",
              "      <td>Diatas 51 Tahun</td>\n",
              "    </tr>\n",
              "    <tr>\n",
              "      <th>96</th>\n",
              "      <td>Wirausaha</td>\n",
              "      <td>21-30 Tahun</td>\n",
              "    </tr>\n",
              "    <tr>\n",
              "      <th>97</th>\n",
              "      <td>Admin</td>\n",
              "      <td>31 - 40 Tahun</td>\n",
              "    </tr>\n",
              "    <tr>\n",
              "      <th>98</th>\n",
              "      <td>Penyuluh Pertanian</td>\n",
              "      <td>Diatas 51 Tahun</td>\n",
              "    </tr>\n",
              "    <tr>\n",
              "      <th>99</th>\n",
              "      <td>ASN</td>\n",
              "      <td>41 - 50 Tahun</td>\n",
              "    </tr>\n",
              "  </tbody>\n",
              "</table>\n",
              "<p>100 rows × 2 columns</p>\n",
              "</div>\n",
              "      <button class=\"colab-df-convert\" onclick=\"convertToInteractive('df-b00d4fb2-a732-4d37-87dc-87282ba8bf1b')\"\n",
              "              title=\"Convert this dataframe to an interactive table.\"\n",
              "              style=\"display:none;\">\n",
              "        \n",
              "  <svg xmlns=\"http://www.w3.org/2000/svg\" height=\"24px\"viewBox=\"0 0 24 24\"\n",
              "       width=\"24px\">\n",
              "    <path d=\"M0 0h24v24H0V0z\" fill=\"none\"/>\n",
              "    <path d=\"M18.56 5.44l.94 2.06.94-2.06 2.06-.94-2.06-.94-.94-2.06-.94 2.06-2.06.94zm-11 1L8.5 8.5l.94-2.06 2.06-.94-2.06-.94L8.5 2.5l-.94 2.06-2.06.94zm10 10l.94 2.06.94-2.06 2.06-.94-2.06-.94-.94-2.06-.94 2.06-2.06.94z\"/><path d=\"M17.41 7.96l-1.37-1.37c-.4-.4-.92-.59-1.43-.59-.52 0-1.04.2-1.43.59L10.3 9.45l-7.72 7.72c-.78.78-.78 2.05 0 2.83L4 21.41c.39.39.9.59 1.41.59.51 0 1.02-.2 1.41-.59l7.78-7.78 2.81-2.81c.8-.78.8-2.07 0-2.86zM5.41 20L4 18.59l7.72-7.72 1.47 1.35L5.41 20z\"/>\n",
              "  </svg>\n",
              "      </button>\n",
              "      \n",
              "  <style>\n",
              "    .colab-df-container {\n",
              "      display:flex;\n",
              "      flex-wrap:wrap;\n",
              "      gap: 12px;\n",
              "    }\n",
              "\n",
              "    .colab-df-convert {\n",
              "      background-color: #E8F0FE;\n",
              "      border: none;\n",
              "      border-radius: 50%;\n",
              "      cursor: pointer;\n",
              "      display: none;\n",
              "      fill: #1967D2;\n",
              "      height: 32px;\n",
              "      padding: 0 0 0 0;\n",
              "      width: 32px;\n",
              "    }\n",
              "\n",
              "    .colab-df-convert:hover {\n",
              "      background-color: #E2EBFA;\n",
              "      box-shadow: 0px 1px 2px rgba(60, 64, 67, 0.3), 0px 1px 3px 1px rgba(60, 64, 67, 0.15);\n",
              "      fill: #174EA6;\n",
              "    }\n",
              "\n",
              "    [theme=dark] .colab-df-convert {\n",
              "      background-color: #3B4455;\n",
              "      fill: #D2E3FC;\n",
              "    }\n",
              "\n",
              "    [theme=dark] .colab-df-convert:hover {\n",
              "      background-color: #434B5C;\n",
              "      box-shadow: 0px 1px 3px 1px rgba(0, 0, 0, 0.15);\n",
              "      filter: drop-shadow(0px 1px 2px rgba(0, 0, 0, 0.3));\n",
              "      fill: #FFFFFF;\n",
              "    }\n",
              "  </style>\n",
              "\n",
              "      <script>\n",
              "        const buttonEl =\n",
              "          document.querySelector('#df-b00d4fb2-a732-4d37-87dc-87282ba8bf1b button.colab-df-convert');\n",
              "        buttonEl.style.display =\n",
              "          google.colab.kernel.accessAllowed ? 'block' : 'none';\n",
              "\n",
              "        async function convertToInteractive(key) {\n",
              "          const element = document.querySelector('#df-b00d4fb2-a732-4d37-87dc-87282ba8bf1b');\n",
              "          const dataTable =\n",
              "            await google.colab.kernel.invokeFunction('convertToInteractive',\n",
              "                                                     [key], {});\n",
              "          if (!dataTable) return;\n",
              "\n",
              "          const docLinkHtml = 'Like what you see? Visit the ' +\n",
              "            '<a target=\"_blank\" href=https://colab.research.google.com/notebooks/data_table.ipynb>data table notebook</a>'\n",
              "            + ' to learn more about interactive tables.';\n",
              "          element.innerHTML = '';\n",
              "          dataTable['output_type'] = 'display_data';\n",
              "          await google.colab.output.renderOutput(dataTable, element);\n",
              "          const docLink = document.createElement('div');\n",
              "          docLink.innerHTML = docLinkHtml;\n",
              "          element.appendChild(docLink);\n",
              "        }\n",
              "      </script>\n",
              "    </div>\n",
              "  </div>\n",
              "  "
            ]
          },
          "metadata": {},
          "execution_count": 14
        }
      ]
    },
    {
      "cell_type": "code",
      "source": [
        "df.groupby(by='Umur')['Umur'].count()"
      ],
      "metadata": {
        "colab": {
          "base_uri": "https://localhost:8080/"
        },
        "id": "49AdwqvOBO7l",
        "outputId": "5a9421e1-c1cd-4b1a-85f3-aa9b351628cb"
      },
      "execution_count": null,
      "outputs": [
        {
          "output_type": "execute_result",
          "data": {
            "text/plain": [
              "Umur\n",
              "21-30 Tahun         15\n",
              "31 - 40 Tahun       25\n",
              "41 - 50 Tahun       25\n",
              "Diatas 51 Tahun     33\n",
              "Dibawah 21 Tahun     2\n",
              "Name: Umur, dtype: int64"
            ]
          },
          "metadata": {},
          "execution_count": 15
        }
      ]
    },
    {
      "cell_type": "code",
      "source": [
        "fig = px.bar(df, x=\"Umur\", title='Visualisasi Data Usia')\n",
        "fig.show()\n",
        "\n"
      ],
      "metadata": {
        "colab": {
          "base_uri": "https://localhost:8080/",
          "height": 542
        },
        "id": "r75TpuifuipB",
        "outputId": "2c0b4d9a-dfd3-425b-a677-47eb4e9a76a5"
      },
      "execution_count": null,
      "outputs": [
        {
          "output_type": "display_data",
          "data": {
            "text/html": [
              "<html>\n",
              "<head><meta charset=\"utf-8\" /></head>\n",
              "<body>\n",
              "    <div>            <script src=\"https://cdnjs.cloudflare.com/ajax/libs/mathjax/2.7.5/MathJax.js?config=TeX-AMS-MML_SVG\"></script><script type=\"text/javascript\">if (window.MathJax) {MathJax.Hub.Config({SVG: {font: \"STIX-Web\"}});}</script>                <script type=\"text/javascript\">window.PlotlyConfig = {MathJaxConfig: 'local'};</script>\n",
              "        <script src=\"https://cdn.plot.ly/plotly-2.8.3.min.js\"></script>                <div id=\"a4237ba1-44b9-4155-b3cf-c3b211e1ff47\" class=\"plotly-graph-div\" style=\"height:525px; width:100%;\"></div>            <script type=\"text/javascript\">                                    window.PLOTLYENV=window.PLOTLYENV || {};                                    if (document.getElementById(\"a4237ba1-44b9-4155-b3cf-c3b211e1ff47\")) {                    Plotly.newPlot(                        \"a4237ba1-44b9-4155-b3cf-c3b211e1ff47\",                        [{\"alignmentgroup\":\"True\",\"hovertemplate\":\"Umur=%{x}<br>count=%{y}<extra></extra>\",\"legendgroup\":\"\",\"marker\":{\"color\":\"#636efa\",\"pattern\":{\"shape\":\"\"}},\"name\":\"\",\"offsetgroup\":\"\",\"orientation\":\"v\",\"showlegend\":false,\"textposition\":\"auto\",\"x\":[\"Diatas 51 Tahun\",\"Diatas 51 Tahun\",\"21-30 Tahun\",\"Dibawah 21 Tahun\",\"31 - 40 Tahun\",\"41 - 50 Tahun\",\"21-30 Tahun\",\"41 - 50 Tahun\",\"Diatas 51 Tahun\",\"Diatas 51 Tahun\",\"41 - 50 Tahun\",\"41 - 50 Tahun\",\"Diatas 51 Tahun\",\"Diatas 51 Tahun\",\"21-30 Tahun\",\"Diatas 51 Tahun\",\"21-30 Tahun\",\"41 - 50 Tahun\",\"41 - 50 Tahun\",\"31 - 40 Tahun\",\"31 - 40 Tahun\",\"Diatas 51 Tahun\",\"Diatas 51 Tahun\",\"41 - 50 Tahun\",\"Diatas 51 Tahun\",\"41 - 50 Tahun\",\"31 - 40 Tahun\",\"31 - 40 Tahun\",\"41 - 50 Tahun\",\"Dibawah 21 Tahun\",\"Diatas 51 Tahun\",\"Diatas 51 Tahun\",\"31 - 40 Tahun\",\"31 - 40 Tahun\",\"21-30 Tahun\",\"41 - 50 Tahun\",\"Diatas 51 Tahun\",\"41 - 50 Tahun\",\"41 - 50 Tahun\",\"31 - 40 Tahun\",\"Diatas 51 Tahun\",\"41 - 50 Tahun\",\"31 - 40 Tahun\",\"21-30 Tahun\",\"41 - 50 Tahun\",\"21-30 Tahun\",\"31 - 40 Tahun\",\"31 - 40 Tahun\",\"31 - 40 Tahun\",\"31 - 40 Tahun\",\"31 - 40 Tahun\",\"31 - 40 Tahun\",\"31 - 40 Tahun\",\"41 - 50 Tahun\",\"Diatas 51 Tahun\",\"Diatas 51 Tahun\",\"31 - 40 Tahun\",\"31 - 40 Tahun\",\"Diatas 51 Tahun\",\"41 - 50 Tahun\",\"Diatas 51 Tahun\",\"41 - 50 Tahun\",\"Diatas 51 Tahun\",\"Diatas 51 Tahun\",\"41 - 50 Tahun\",\"31 - 40 Tahun\",\"31 - 40 Tahun\",\"21-30 Tahun\",\"41 - 50 Tahun\",\"Diatas 51 Tahun\",\"41 - 50 Tahun\",\"31 - 40 Tahun\",\"21-30 Tahun\",\"Diatas 51 Tahun\",\"Diatas 51 Tahun\",\"31 - 40 Tahun\",\"Diatas 51 Tahun\",\"21-30 Tahun\",\"Diatas 51 Tahun\",\"31 - 40 Tahun\",\"21-30 Tahun\",\"41 - 50 Tahun\",\"21-30 Tahun\",\"Diatas 51 Tahun\",\"Diatas 51 Tahun\",\"41 - 50 Tahun\",\"31 - 40 Tahun\",\"Diatas 51 Tahun\",\"Diatas 51 Tahun\",\"21-30 Tahun\",\"Diatas 51 Tahun\",\"21-30 Tahun\",\"41 - 50 Tahun\",\"Diatas 51 Tahun\",\"41 - 50 Tahun\",\"Diatas 51 Tahun\",\"21-30 Tahun\",\"31 - 40 Tahun\",\"Diatas 51 Tahun\",\"41 - 50 Tahun\"],\"xaxis\":\"x\",\"y\":[1,1,1,1,1,1,1,1,1,1,1,1,1,1,1,1,1,1,1,1,1,1,1,1,1,1,1,1,1,1,1,1,1,1,1,1,1,1,1,1,1,1,1,1,1,1,1,1,1,1,1,1,1,1,1,1,1,1,1,1,1,1,1,1,1,1,1,1,1,1,1,1,1,1,1,1,1,1,1,1,1,1,1,1,1,1,1,1,1,1,1,1,1,1,1,1,1,1,1,1],\"yaxis\":\"y\",\"type\":\"bar\"}],                        {\"template\":{\"data\":{\"bar\":[{\"error_x\":{\"color\":\"#2a3f5f\"},\"error_y\":{\"color\":\"#2a3f5f\"},\"marker\":{\"line\":{\"color\":\"#E5ECF6\",\"width\":0.5},\"pattern\":{\"fillmode\":\"overlay\",\"size\":10,\"solidity\":0.2}},\"type\":\"bar\"}],\"barpolar\":[{\"marker\":{\"line\":{\"color\":\"#E5ECF6\",\"width\":0.5},\"pattern\":{\"fillmode\":\"overlay\",\"size\":10,\"solidity\":0.2}},\"type\":\"barpolar\"}],\"carpet\":[{\"aaxis\":{\"endlinecolor\":\"#2a3f5f\",\"gridcolor\":\"white\",\"linecolor\":\"white\",\"minorgridcolor\":\"white\",\"startlinecolor\":\"#2a3f5f\"},\"baxis\":{\"endlinecolor\":\"#2a3f5f\",\"gridcolor\":\"white\",\"linecolor\":\"white\",\"minorgridcolor\":\"white\",\"startlinecolor\":\"#2a3f5f\"},\"type\":\"carpet\"}],\"choropleth\":[{\"colorbar\":{\"outlinewidth\":0,\"ticks\":\"\"},\"type\":\"choropleth\"}],\"contour\":[{\"colorbar\":{\"outlinewidth\":0,\"ticks\":\"\"},\"colorscale\":[[0.0,\"#0d0887\"],[0.1111111111111111,\"#46039f\"],[0.2222222222222222,\"#7201a8\"],[0.3333333333333333,\"#9c179e\"],[0.4444444444444444,\"#bd3786\"],[0.5555555555555556,\"#d8576b\"],[0.6666666666666666,\"#ed7953\"],[0.7777777777777778,\"#fb9f3a\"],[0.8888888888888888,\"#fdca26\"],[1.0,\"#f0f921\"]],\"type\":\"contour\"}],\"contourcarpet\":[{\"colorbar\":{\"outlinewidth\":0,\"ticks\":\"\"},\"type\":\"contourcarpet\"}],\"heatmap\":[{\"colorbar\":{\"outlinewidth\":0,\"ticks\":\"\"},\"colorscale\":[[0.0,\"#0d0887\"],[0.1111111111111111,\"#46039f\"],[0.2222222222222222,\"#7201a8\"],[0.3333333333333333,\"#9c179e\"],[0.4444444444444444,\"#bd3786\"],[0.5555555555555556,\"#d8576b\"],[0.6666666666666666,\"#ed7953\"],[0.7777777777777778,\"#fb9f3a\"],[0.8888888888888888,\"#fdca26\"],[1.0,\"#f0f921\"]],\"type\":\"heatmap\"}],\"heatmapgl\":[{\"colorbar\":{\"outlinewidth\":0,\"ticks\":\"\"},\"colorscale\":[[0.0,\"#0d0887\"],[0.1111111111111111,\"#46039f\"],[0.2222222222222222,\"#7201a8\"],[0.3333333333333333,\"#9c179e\"],[0.4444444444444444,\"#bd3786\"],[0.5555555555555556,\"#d8576b\"],[0.6666666666666666,\"#ed7953\"],[0.7777777777777778,\"#fb9f3a\"],[0.8888888888888888,\"#fdca26\"],[1.0,\"#f0f921\"]],\"type\":\"heatmapgl\"}],\"histogram\":[{\"marker\":{\"pattern\":{\"fillmode\":\"overlay\",\"size\":10,\"solidity\":0.2}},\"type\":\"histogram\"}],\"histogram2d\":[{\"colorbar\":{\"outlinewidth\":0,\"ticks\":\"\"},\"colorscale\":[[0.0,\"#0d0887\"],[0.1111111111111111,\"#46039f\"],[0.2222222222222222,\"#7201a8\"],[0.3333333333333333,\"#9c179e\"],[0.4444444444444444,\"#bd3786\"],[0.5555555555555556,\"#d8576b\"],[0.6666666666666666,\"#ed7953\"],[0.7777777777777778,\"#fb9f3a\"],[0.8888888888888888,\"#fdca26\"],[1.0,\"#f0f921\"]],\"type\":\"histogram2d\"}],\"histogram2dcontour\":[{\"colorbar\":{\"outlinewidth\":0,\"ticks\":\"\"},\"colorscale\":[[0.0,\"#0d0887\"],[0.1111111111111111,\"#46039f\"],[0.2222222222222222,\"#7201a8\"],[0.3333333333333333,\"#9c179e\"],[0.4444444444444444,\"#bd3786\"],[0.5555555555555556,\"#d8576b\"],[0.6666666666666666,\"#ed7953\"],[0.7777777777777778,\"#fb9f3a\"],[0.8888888888888888,\"#fdca26\"],[1.0,\"#f0f921\"]],\"type\":\"histogram2dcontour\"}],\"mesh3d\":[{\"colorbar\":{\"outlinewidth\":0,\"ticks\":\"\"},\"type\":\"mesh3d\"}],\"parcoords\":[{\"line\":{\"colorbar\":{\"outlinewidth\":0,\"ticks\":\"\"}},\"type\":\"parcoords\"}],\"pie\":[{\"automargin\":true,\"type\":\"pie\"}],\"scatter\":[{\"marker\":{\"colorbar\":{\"outlinewidth\":0,\"ticks\":\"\"}},\"type\":\"scatter\"}],\"scatter3d\":[{\"line\":{\"colorbar\":{\"outlinewidth\":0,\"ticks\":\"\"}},\"marker\":{\"colorbar\":{\"outlinewidth\":0,\"ticks\":\"\"}},\"type\":\"scatter3d\"}],\"scattercarpet\":[{\"marker\":{\"colorbar\":{\"outlinewidth\":0,\"ticks\":\"\"}},\"type\":\"scattercarpet\"}],\"scattergeo\":[{\"marker\":{\"colorbar\":{\"outlinewidth\":0,\"ticks\":\"\"}},\"type\":\"scattergeo\"}],\"scattergl\":[{\"marker\":{\"colorbar\":{\"outlinewidth\":0,\"ticks\":\"\"}},\"type\":\"scattergl\"}],\"scattermapbox\":[{\"marker\":{\"colorbar\":{\"outlinewidth\":0,\"ticks\":\"\"}},\"type\":\"scattermapbox\"}],\"scatterpolar\":[{\"marker\":{\"colorbar\":{\"outlinewidth\":0,\"ticks\":\"\"}},\"type\":\"scatterpolar\"}],\"scatterpolargl\":[{\"marker\":{\"colorbar\":{\"outlinewidth\":0,\"ticks\":\"\"}},\"type\":\"scatterpolargl\"}],\"scatterternary\":[{\"marker\":{\"colorbar\":{\"outlinewidth\":0,\"ticks\":\"\"}},\"type\":\"scatterternary\"}],\"surface\":[{\"colorbar\":{\"outlinewidth\":0,\"ticks\":\"\"},\"colorscale\":[[0.0,\"#0d0887\"],[0.1111111111111111,\"#46039f\"],[0.2222222222222222,\"#7201a8\"],[0.3333333333333333,\"#9c179e\"],[0.4444444444444444,\"#bd3786\"],[0.5555555555555556,\"#d8576b\"],[0.6666666666666666,\"#ed7953\"],[0.7777777777777778,\"#fb9f3a\"],[0.8888888888888888,\"#fdca26\"],[1.0,\"#f0f921\"]],\"type\":\"surface\"}],\"table\":[{\"cells\":{\"fill\":{\"color\":\"#EBF0F8\"},\"line\":{\"color\":\"white\"}},\"header\":{\"fill\":{\"color\":\"#C8D4E3\"},\"line\":{\"color\":\"white\"}},\"type\":\"table\"}]},\"layout\":{\"annotationdefaults\":{\"arrowcolor\":\"#2a3f5f\",\"arrowhead\":0,\"arrowwidth\":1},\"autotypenumbers\":\"strict\",\"coloraxis\":{\"colorbar\":{\"outlinewidth\":0,\"ticks\":\"\"}},\"colorscale\":{\"diverging\":[[0,\"#8e0152\"],[0.1,\"#c51b7d\"],[0.2,\"#de77ae\"],[0.3,\"#f1b6da\"],[0.4,\"#fde0ef\"],[0.5,\"#f7f7f7\"],[0.6,\"#e6f5d0\"],[0.7,\"#b8e186\"],[0.8,\"#7fbc41\"],[0.9,\"#4d9221\"],[1,\"#276419\"]],\"sequential\":[[0.0,\"#0d0887\"],[0.1111111111111111,\"#46039f\"],[0.2222222222222222,\"#7201a8\"],[0.3333333333333333,\"#9c179e\"],[0.4444444444444444,\"#bd3786\"],[0.5555555555555556,\"#d8576b\"],[0.6666666666666666,\"#ed7953\"],[0.7777777777777778,\"#fb9f3a\"],[0.8888888888888888,\"#fdca26\"],[1.0,\"#f0f921\"]],\"sequentialminus\":[[0.0,\"#0d0887\"],[0.1111111111111111,\"#46039f\"],[0.2222222222222222,\"#7201a8\"],[0.3333333333333333,\"#9c179e\"],[0.4444444444444444,\"#bd3786\"],[0.5555555555555556,\"#d8576b\"],[0.6666666666666666,\"#ed7953\"],[0.7777777777777778,\"#fb9f3a\"],[0.8888888888888888,\"#fdca26\"],[1.0,\"#f0f921\"]]},\"colorway\":[\"#636efa\",\"#EF553B\",\"#00cc96\",\"#ab63fa\",\"#FFA15A\",\"#19d3f3\",\"#FF6692\",\"#B6E880\",\"#FF97FF\",\"#FECB52\"],\"font\":{\"color\":\"#2a3f5f\"},\"geo\":{\"bgcolor\":\"white\",\"lakecolor\":\"white\",\"landcolor\":\"#E5ECF6\",\"showlakes\":true,\"showland\":true,\"subunitcolor\":\"white\"},\"hoverlabel\":{\"align\":\"left\"},\"hovermode\":\"closest\",\"mapbox\":{\"style\":\"light\"},\"paper_bgcolor\":\"white\",\"plot_bgcolor\":\"#E5ECF6\",\"polar\":{\"angularaxis\":{\"gridcolor\":\"white\",\"linecolor\":\"white\",\"ticks\":\"\"},\"bgcolor\":\"#E5ECF6\",\"radialaxis\":{\"gridcolor\":\"white\",\"linecolor\":\"white\",\"ticks\":\"\"}},\"scene\":{\"xaxis\":{\"backgroundcolor\":\"#E5ECF6\",\"gridcolor\":\"white\",\"gridwidth\":2,\"linecolor\":\"white\",\"showbackground\":true,\"ticks\":\"\",\"zerolinecolor\":\"white\"},\"yaxis\":{\"backgroundcolor\":\"#E5ECF6\",\"gridcolor\":\"white\",\"gridwidth\":2,\"linecolor\":\"white\",\"showbackground\":true,\"ticks\":\"\",\"zerolinecolor\":\"white\"},\"zaxis\":{\"backgroundcolor\":\"#E5ECF6\",\"gridcolor\":\"white\",\"gridwidth\":2,\"linecolor\":\"white\",\"showbackground\":true,\"ticks\":\"\",\"zerolinecolor\":\"white\"}},\"shapedefaults\":{\"line\":{\"color\":\"#2a3f5f\"}},\"ternary\":{\"aaxis\":{\"gridcolor\":\"white\",\"linecolor\":\"white\",\"ticks\":\"\"},\"baxis\":{\"gridcolor\":\"white\",\"linecolor\":\"white\",\"ticks\":\"\"},\"bgcolor\":\"#E5ECF6\",\"caxis\":{\"gridcolor\":\"white\",\"linecolor\":\"white\",\"ticks\":\"\"}},\"title\":{\"x\":0.05},\"xaxis\":{\"automargin\":true,\"gridcolor\":\"white\",\"linecolor\":\"white\",\"ticks\":\"\",\"title\":{\"standoff\":15},\"zerolinecolor\":\"white\",\"zerolinewidth\":2},\"yaxis\":{\"automargin\":true,\"gridcolor\":\"white\",\"linecolor\":\"white\",\"ticks\":\"\",\"title\":{\"standoff\":15},\"zerolinecolor\":\"white\",\"zerolinewidth\":2}}},\"xaxis\":{\"anchor\":\"y\",\"domain\":[0.0,1.0],\"title\":{\"text\":\"Umur\"}},\"yaxis\":{\"anchor\":\"x\",\"domain\":[0.0,1.0],\"title\":{\"text\":\"count\"}},\"legend\":{\"tracegroupgap\":0},\"title\":{\"text\":\"Visualisasi Data Usia\"},\"barmode\":\"relative\"},                        {\"responsive\": true}                    ).then(function(){\n",
              "                            \n",
              "var gd = document.getElementById('a4237ba1-44b9-4155-b3cf-c3b211e1ff47');\n",
              "var x = new MutationObserver(function (mutations, observer) {{\n",
              "        var display = window.getComputedStyle(gd).display;\n",
              "        if (!display || display === 'none') {{\n",
              "            console.log([gd, 'removed!']);\n",
              "            Plotly.purge(gd);\n",
              "            observer.disconnect();\n",
              "        }}\n",
              "}});\n",
              "\n",
              "// Listen for the removal of the full notebook cells\n",
              "var notebookContainer = gd.closest('#notebook-container');\n",
              "if (notebookContainer) {{\n",
              "    x.observe(notebookContainer, {childList: true});\n",
              "}}\n",
              "\n",
              "// Listen for the clearing of the current output cell\n",
              "var outputEl = gd.closest('.output');\n",
              "if (outputEl) {{\n",
              "    x.observe(outputEl, {childList: true});\n",
              "}}\n",
              "\n",
              "                        })                };                            </script>        </div>\n",
              "</body>\n",
              "</html>"
            ]
          },
          "metadata": {}
        }
      ]
    },
    {
      "cell_type": "code",
      "source": [
        "df.groupby(by='Profesi/Pekerjaan')['Profesi/Pekerjaan'].count()"
      ],
      "metadata": {
        "colab": {
          "base_uri": "https://localhost:8080/"
        },
        "id": "06iAdHAZ11_K",
        "outputId": "b9a32724-0aa3-44e0-8d68-6ccadcfa285a"
      },
      "execution_count": null,
      "outputs": [
        {
          "output_type": "execute_result",
          "data": {
            "text/plain": [
              "Profesi/Pekerjaan\n",
              "-                                          3\n",
              "ASN                                        7\n",
              "Admin                                      1\n",
              "Asn. Pengawas alsintan madya               1\n",
              "Dosen                                      3\n",
              "Eco Content                                1\n",
              "Guru                                       1\n",
              "Guru                                       1\n",
              "IRT                                        1\n",
              "Karyawan                                   1\n",
              "Konsultan                                  1\n",
              "MAHASISWA                                  1\n",
              "Mahasiswa                                  4\n",
              "Mahasiswa Pascasarjana                     1\n",
              "PENYULUH PERTANIAN                         2\n",
              "PNS                                        1\n",
              "PNS/ASN                                    1\n",
              "PP                                         1\n",
              "PPL                                        5\n",
              "PPL                                        1\n",
              "Pebyuluh pertanian                         1\n",
              "Pegawai                                    1\n",
              "Peneliti                                   1\n",
              "Penuluh Pertanian                          1\n",
              "Penyuluh                                   3\n",
              "Penyuluh ASN                               1\n",
              "Penyuluh Pertanian                        11\n",
              "Penyuluh Pertanian                         5\n",
              "Penyuluh Pertanian Ahli Muda/PNS           1\n",
              "Penyuluh Pertanian Ahli Pertama            1\n",
              "Penyuluh Pertanian Lapangan                1\n",
              "Penyuluh Pertanian Madya                   1\n",
              "Penyuluh Pertanian Pelaksana/ Terampil     1\n",
              "Penyuluh pertanian                         1\n",
              "Penyuluh pertanian                         2\n",
              "Penyuluh pertanian lapangan                1\n",
              "Petani                                     3\n",
              "Pustakawan                                 8\n",
              "WIRASWASTA                                 2\n",
              "Wiraswasta                                 4\n",
              "Wirausaha                                  2\n",
              "Wirausaha                                  1\n",
              "dosen                                      1\n",
              "guru honor swasta                          1\n",
              "mahasiswa                                  1\n",
              "penyuluh                                   1\n",
              "penyuluh pertanian                         2\n",
              "pns                                        1\n",
              "pustakawan                                 1\n",
              "umum                                       1\n",
              "Name: Profesi/Pekerjaan, dtype: int64"
            ]
          },
          "metadata": {},
          "execution_count": 17
        }
      ]
    },
    {
      "cell_type": "code",
      "source": [
        "fig = px.bar(df, x=\"Profesi/Pekerjaan\")\n",
        "fig.show()"
      ],
      "metadata": {
        "colab": {
          "base_uri": "https://localhost:8080/",
          "height": 542
        },
        "id": "YDBo323Avd3H",
        "outputId": "e56ffde2-09cc-4711-8f09-716c27cd5c79"
      },
      "execution_count": null,
      "outputs": [
        {
          "output_type": "display_data",
          "data": {
            "text/html": [
              "<html>\n",
              "<head><meta charset=\"utf-8\" /></head>\n",
              "<body>\n",
              "    <div>            <script src=\"https://cdnjs.cloudflare.com/ajax/libs/mathjax/2.7.5/MathJax.js?config=TeX-AMS-MML_SVG\"></script><script type=\"text/javascript\">if (window.MathJax) {MathJax.Hub.Config({SVG: {font: \"STIX-Web\"}});}</script>                <script type=\"text/javascript\">window.PlotlyConfig = {MathJaxConfig: 'local'};</script>\n",
              "        <script src=\"https://cdn.plot.ly/plotly-2.8.3.min.js\"></script>                <div id=\"29051012-ecb2-48ca-b0f1-cee09439d67a\" class=\"plotly-graph-div\" style=\"height:525px; width:100%;\"></div>            <script type=\"text/javascript\">                                    window.PLOTLYENV=window.PLOTLYENV || {};                                    if (document.getElementById(\"29051012-ecb2-48ca-b0f1-cee09439d67a\")) {                    Plotly.newPlot(                        \"29051012-ecb2-48ca-b0f1-cee09439d67a\",                        [{\"alignmentgroup\":\"True\",\"hovertemplate\":\"Profesi/Pekerjaan=%{x}<br>count=%{y}<extra></extra>\",\"legendgroup\":\"\",\"marker\":{\"color\":\"#636efa\",\"pattern\":{\"shape\":\"\"}},\"name\":\"\",\"offsetgroup\":\"\",\"orientation\":\"v\",\"showlegend\":false,\"textposition\":\"auto\",\"x\":[\"Penyuluh Pertanian\",\"Pustakawan\",\"Pegawai\",\"Mahasiswa\",\"PPL\",\"Wirausaha\",\"Penyuluh Pertanian Ahli Pertama\",\"guru honor swasta\",\"Penyuluh Pertanian\",\"Penuluh Pertanian\",\"Penyuluh Pertanian \",\"Konsultan\",\"ASN\",\"Pustakawan\",\"Wirausaha\",\"Pustakawan\",\"ASN\",\"Penyuluh Pertanian \",\"Penyuluh Pertanian\",\"IRT\",\"Wiraswasta\",\"Penyuluh Pertanian\",\"ASN\",\"PP\",\"Asn. Pengawas alsintan madya\",\"ASN\",\"Penyuluh Pertanian\",\"PPL\",\"Mahasiswa\",\"Mahasiswa\",\"Penyuluh\",\"Pustakawan\",\"pns\",\"Penyuluh\",\"MAHASISWA\",\"Pebyuluh pertanian\",\"Guru \",\"Petani\",\"Karyawan\",\"PENYULUH PERTANIAN\",\"Dosen\",\"Penyuluh Pertanian \",\"Wiraswasta\",\"Mahasiswa Pascasarjana\",\"Penyuluh Pertanian\",\"mahasiswa \",\"penyuluh\",\"Penyuluh Pertanian\",\"dosen\",\"Dosen\",\"PENYULUH PERTANIAN\",\"Penyuluh pertanian lapangan \",\"Penyuluh Pertanian Lapangan \",\"PPL\",\"Penyuluh Pertanian Madya\",\"Penyuluh pertanian \",\"Penyuluh Pertanian\",\"-\",\"Penyuluh Pertanian\",\"-\",\"Penyuluh Pertanian Ahli Muda/PNS\",\"Pustakawan\",\"Penyuluh\",\"Guru\",\"Dosen\",\"PNS\",\"PPL \",\"WIRASWASTA\",\"Penyuluh ASN \",\"Penyuluh pertanian\",\"Penyuluh pertanian \",\"Penyuluh Pertanian \",\"Mahasiswa\",\"Wiraswasta\",\"Petani\",\"penyuluh pertanian\",\"PPL\",\"Pustakawan\",\"Pustakawan\",\"-\",\"PPL\",\"PNS/ASN\",\"umum\",\"Pustakawan\",\"WIRASWASTA\",\"pustakawan\",\"penyuluh pertanian\",\"Wiraswasta\",\"Penyuluh Pertanian\",\"Petani\",\"Penyuluh Pertanian\",\"Eco Content\",\"ASN\",\"Penyuluh Pertanian Pelaksana/ Terampil\",\"ASN\",\"Peneliti\",\"Wirausaha \",\"Admin \",\"Penyuluh Pertanian \",\"ASN\"],\"xaxis\":\"x\",\"y\":[1,1,1,1,1,1,1,1,1,1,1,1,1,1,1,1,1,1,1,1,1,1,1,1,1,1,1,1,1,1,1,1,1,1,1,1,1,1,1,1,1,1,1,1,1,1,1,1,1,1,1,1,1,1,1,1,1,1,1,1,1,1,1,1,1,1,1,1,1,1,1,1,1,1,1,1,1,1,1,1,1,1,1,1,1,1,1,1,1,1,1,1,1,1,1,1,1,1,1,1],\"yaxis\":\"y\",\"type\":\"bar\"}],                        {\"template\":{\"data\":{\"bar\":[{\"error_x\":{\"color\":\"#2a3f5f\"},\"error_y\":{\"color\":\"#2a3f5f\"},\"marker\":{\"line\":{\"color\":\"#E5ECF6\",\"width\":0.5},\"pattern\":{\"fillmode\":\"overlay\",\"size\":10,\"solidity\":0.2}},\"type\":\"bar\"}],\"barpolar\":[{\"marker\":{\"line\":{\"color\":\"#E5ECF6\",\"width\":0.5},\"pattern\":{\"fillmode\":\"overlay\",\"size\":10,\"solidity\":0.2}},\"type\":\"barpolar\"}],\"carpet\":[{\"aaxis\":{\"endlinecolor\":\"#2a3f5f\",\"gridcolor\":\"white\",\"linecolor\":\"white\",\"minorgridcolor\":\"white\",\"startlinecolor\":\"#2a3f5f\"},\"baxis\":{\"endlinecolor\":\"#2a3f5f\",\"gridcolor\":\"white\",\"linecolor\":\"white\",\"minorgridcolor\":\"white\",\"startlinecolor\":\"#2a3f5f\"},\"type\":\"carpet\"}],\"choropleth\":[{\"colorbar\":{\"outlinewidth\":0,\"ticks\":\"\"},\"type\":\"choropleth\"}],\"contour\":[{\"colorbar\":{\"outlinewidth\":0,\"ticks\":\"\"},\"colorscale\":[[0.0,\"#0d0887\"],[0.1111111111111111,\"#46039f\"],[0.2222222222222222,\"#7201a8\"],[0.3333333333333333,\"#9c179e\"],[0.4444444444444444,\"#bd3786\"],[0.5555555555555556,\"#d8576b\"],[0.6666666666666666,\"#ed7953\"],[0.7777777777777778,\"#fb9f3a\"],[0.8888888888888888,\"#fdca26\"],[1.0,\"#f0f921\"]],\"type\":\"contour\"}],\"contourcarpet\":[{\"colorbar\":{\"outlinewidth\":0,\"ticks\":\"\"},\"type\":\"contourcarpet\"}],\"heatmap\":[{\"colorbar\":{\"outlinewidth\":0,\"ticks\":\"\"},\"colorscale\":[[0.0,\"#0d0887\"],[0.1111111111111111,\"#46039f\"],[0.2222222222222222,\"#7201a8\"],[0.3333333333333333,\"#9c179e\"],[0.4444444444444444,\"#bd3786\"],[0.5555555555555556,\"#d8576b\"],[0.6666666666666666,\"#ed7953\"],[0.7777777777777778,\"#fb9f3a\"],[0.8888888888888888,\"#fdca26\"],[1.0,\"#f0f921\"]],\"type\":\"heatmap\"}],\"heatmapgl\":[{\"colorbar\":{\"outlinewidth\":0,\"ticks\":\"\"},\"colorscale\":[[0.0,\"#0d0887\"],[0.1111111111111111,\"#46039f\"],[0.2222222222222222,\"#7201a8\"],[0.3333333333333333,\"#9c179e\"],[0.4444444444444444,\"#bd3786\"],[0.5555555555555556,\"#d8576b\"],[0.6666666666666666,\"#ed7953\"],[0.7777777777777778,\"#fb9f3a\"],[0.8888888888888888,\"#fdca26\"],[1.0,\"#f0f921\"]],\"type\":\"heatmapgl\"}],\"histogram\":[{\"marker\":{\"pattern\":{\"fillmode\":\"overlay\",\"size\":10,\"solidity\":0.2}},\"type\":\"histogram\"}],\"histogram2d\":[{\"colorbar\":{\"outlinewidth\":0,\"ticks\":\"\"},\"colorscale\":[[0.0,\"#0d0887\"],[0.1111111111111111,\"#46039f\"],[0.2222222222222222,\"#7201a8\"],[0.3333333333333333,\"#9c179e\"],[0.4444444444444444,\"#bd3786\"],[0.5555555555555556,\"#d8576b\"],[0.6666666666666666,\"#ed7953\"],[0.7777777777777778,\"#fb9f3a\"],[0.8888888888888888,\"#fdca26\"],[1.0,\"#f0f921\"]],\"type\":\"histogram2d\"}],\"histogram2dcontour\":[{\"colorbar\":{\"outlinewidth\":0,\"ticks\":\"\"},\"colorscale\":[[0.0,\"#0d0887\"],[0.1111111111111111,\"#46039f\"],[0.2222222222222222,\"#7201a8\"],[0.3333333333333333,\"#9c179e\"],[0.4444444444444444,\"#bd3786\"],[0.5555555555555556,\"#d8576b\"],[0.6666666666666666,\"#ed7953\"],[0.7777777777777778,\"#fb9f3a\"],[0.8888888888888888,\"#fdca26\"],[1.0,\"#f0f921\"]],\"type\":\"histogram2dcontour\"}],\"mesh3d\":[{\"colorbar\":{\"outlinewidth\":0,\"ticks\":\"\"},\"type\":\"mesh3d\"}],\"parcoords\":[{\"line\":{\"colorbar\":{\"outlinewidth\":0,\"ticks\":\"\"}},\"type\":\"parcoords\"}],\"pie\":[{\"automargin\":true,\"type\":\"pie\"}],\"scatter\":[{\"marker\":{\"colorbar\":{\"outlinewidth\":0,\"ticks\":\"\"}},\"type\":\"scatter\"}],\"scatter3d\":[{\"line\":{\"colorbar\":{\"outlinewidth\":0,\"ticks\":\"\"}},\"marker\":{\"colorbar\":{\"outlinewidth\":0,\"ticks\":\"\"}},\"type\":\"scatter3d\"}],\"scattercarpet\":[{\"marker\":{\"colorbar\":{\"outlinewidth\":0,\"ticks\":\"\"}},\"type\":\"scattercarpet\"}],\"scattergeo\":[{\"marker\":{\"colorbar\":{\"outlinewidth\":0,\"ticks\":\"\"}},\"type\":\"scattergeo\"}],\"scattergl\":[{\"marker\":{\"colorbar\":{\"outlinewidth\":0,\"ticks\":\"\"}},\"type\":\"scattergl\"}],\"scattermapbox\":[{\"marker\":{\"colorbar\":{\"outlinewidth\":0,\"ticks\":\"\"}},\"type\":\"scattermapbox\"}],\"scatterpolar\":[{\"marker\":{\"colorbar\":{\"outlinewidth\":0,\"ticks\":\"\"}},\"type\":\"scatterpolar\"}],\"scatterpolargl\":[{\"marker\":{\"colorbar\":{\"outlinewidth\":0,\"ticks\":\"\"}},\"type\":\"scatterpolargl\"}],\"scatterternary\":[{\"marker\":{\"colorbar\":{\"outlinewidth\":0,\"ticks\":\"\"}},\"type\":\"scatterternary\"}],\"surface\":[{\"colorbar\":{\"outlinewidth\":0,\"ticks\":\"\"},\"colorscale\":[[0.0,\"#0d0887\"],[0.1111111111111111,\"#46039f\"],[0.2222222222222222,\"#7201a8\"],[0.3333333333333333,\"#9c179e\"],[0.4444444444444444,\"#bd3786\"],[0.5555555555555556,\"#d8576b\"],[0.6666666666666666,\"#ed7953\"],[0.7777777777777778,\"#fb9f3a\"],[0.8888888888888888,\"#fdca26\"],[1.0,\"#f0f921\"]],\"type\":\"surface\"}],\"table\":[{\"cells\":{\"fill\":{\"color\":\"#EBF0F8\"},\"line\":{\"color\":\"white\"}},\"header\":{\"fill\":{\"color\":\"#C8D4E3\"},\"line\":{\"color\":\"white\"}},\"type\":\"table\"}]},\"layout\":{\"annotationdefaults\":{\"arrowcolor\":\"#2a3f5f\",\"arrowhead\":0,\"arrowwidth\":1},\"autotypenumbers\":\"strict\",\"coloraxis\":{\"colorbar\":{\"outlinewidth\":0,\"ticks\":\"\"}},\"colorscale\":{\"diverging\":[[0,\"#8e0152\"],[0.1,\"#c51b7d\"],[0.2,\"#de77ae\"],[0.3,\"#f1b6da\"],[0.4,\"#fde0ef\"],[0.5,\"#f7f7f7\"],[0.6,\"#e6f5d0\"],[0.7,\"#b8e186\"],[0.8,\"#7fbc41\"],[0.9,\"#4d9221\"],[1,\"#276419\"]],\"sequential\":[[0.0,\"#0d0887\"],[0.1111111111111111,\"#46039f\"],[0.2222222222222222,\"#7201a8\"],[0.3333333333333333,\"#9c179e\"],[0.4444444444444444,\"#bd3786\"],[0.5555555555555556,\"#d8576b\"],[0.6666666666666666,\"#ed7953\"],[0.7777777777777778,\"#fb9f3a\"],[0.8888888888888888,\"#fdca26\"],[1.0,\"#f0f921\"]],\"sequentialminus\":[[0.0,\"#0d0887\"],[0.1111111111111111,\"#46039f\"],[0.2222222222222222,\"#7201a8\"],[0.3333333333333333,\"#9c179e\"],[0.4444444444444444,\"#bd3786\"],[0.5555555555555556,\"#d8576b\"],[0.6666666666666666,\"#ed7953\"],[0.7777777777777778,\"#fb9f3a\"],[0.8888888888888888,\"#fdca26\"],[1.0,\"#f0f921\"]]},\"colorway\":[\"#636efa\",\"#EF553B\",\"#00cc96\",\"#ab63fa\",\"#FFA15A\",\"#19d3f3\",\"#FF6692\",\"#B6E880\",\"#FF97FF\",\"#FECB52\"],\"font\":{\"color\":\"#2a3f5f\"},\"geo\":{\"bgcolor\":\"white\",\"lakecolor\":\"white\",\"landcolor\":\"#E5ECF6\",\"showlakes\":true,\"showland\":true,\"subunitcolor\":\"white\"},\"hoverlabel\":{\"align\":\"left\"},\"hovermode\":\"closest\",\"mapbox\":{\"style\":\"light\"},\"paper_bgcolor\":\"white\",\"plot_bgcolor\":\"#E5ECF6\",\"polar\":{\"angularaxis\":{\"gridcolor\":\"white\",\"linecolor\":\"white\",\"ticks\":\"\"},\"bgcolor\":\"#E5ECF6\",\"radialaxis\":{\"gridcolor\":\"white\",\"linecolor\":\"white\",\"ticks\":\"\"}},\"scene\":{\"xaxis\":{\"backgroundcolor\":\"#E5ECF6\",\"gridcolor\":\"white\",\"gridwidth\":2,\"linecolor\":\"white\",\"showbackground\":true,\"ticks\":\"\",\"zerolinecolor\":\"white\"},\"yaxis\":{\"backgroundcolor\":\"#E5ECF6\",\"gridcolor\":\"white\",\"gridwidth\":2,\"linecolor\":\"white\",\"showbackground\":true,\"ticks\":\"\",\"zerolinecolor\":\"white\"},\"zaxis\":{\"backgroundcolor\":\"#E5ECF6\",\"gridcolor\":\"white\",\"gridwidth\":2,\"linecolor\":\"white\",\"showbackground\":true,\"ticks\":\"\",\"zerolinecolor\":\"white\"}},\"shapedefaults\":{\"line\":{\"color\":\"#2a3f5f\"}},\"ternary\":{\"aaxis\":{\"gridcolor\":\"white\",\"linecolor\":\"white\",\"ticks\":\"\"},\"baxis\":{\"gridcolor\":\"white\",\"linecolor\":\"white\",\"ticks\":\"\"},\"bgcolor\":\"#E5ECF6\",\"caxis\":{\"gridcolor\":\"white\",\"linecolor\":\"white\",\"ticks\":\"\"}},\"title\":{\"x\":0.05},\"xaxis\":{\"automargin\":true,\"gridcolor\":\"white\",\"linecolor\":\"white\",\"ticks\":\"\",\"title\":{\"standoff\":15},\"zerolinecolor\":\"white\",\"zerolinewidth\":2},\"yaxis\":{\"automargin\":true,\"gridcolor\":\"white\",\"linecolor\":\"white\",\"ticks\":\"\",\"title\":{\"standoff\":15},\"zerolinecolor\":\"white\",\"zerolinewidth\":2}}},\"xaxis\":{\"anchor\":\"y\",\"domain\":[0.0,1.0],\"title\":{\"text\":\"Profesi/Pekerjaan\"}},\"yaxis\":{\"anchor\":\"x\",\"domain\":[0.0,1.0],\"title\":{\"text\":\"count\"}},\"legend\":{\"tracegroupgap\":0},\"margin\":{\"t\":60},\"barmode\":\"relative\"},                        {\"responsive\": true}                    ).then(function(){\n",
              "                            \n",
              "var gd = document.getElementById('29051012-ecb2-48ca-b0f1-cee09439d67a');\n",
              "var x = new MutationObserver(function (mutations, observer) {{\n",
              "        var display = window.getComputedStyle(gd).display;\n",
              "        if (!display || display === 'none') {{\n",
              "            console.log([gd, 'removed!']);\n",
              "            Plotly.purge(gd);\n",
              "            observer.disconnect();\n",
              "        }}\n",
              "}});\n",
              "\n",
              "// Listen for the removal of the full notebook cells\n",
              "var notebookContainer = gd.closest('#notebook-container');\n",
              "if (notebookContainer) {{\n",
              "    x.observe(notebookContainer, {childList: true});\n",
              "}}\n",
              "\n",
              "// Listen for the clearing of the current output cell\n",
              "var outputEl = gd.closest('.output');\n",
              "if (outputEl) {{\n",
              "    x.observe(outputEl, {childList: true});\n",
              "}}\n",
              "\n",
              "                        })                };                            </script>        </div>\n",
              "</body>\n",
              "</html>"
            ]
          },
          "metadata": {}
        }
      ]
    },
    {
      "cell_type": "markdown",
      "source": [
        "#Sentimen terhadap acara tersebut\n",
        "\n",
        "Belum Selesai Dianalisis"
      ],
      "metadata": {
        "id": "4qi0zlx1C6y0"
      }
    },
    {
      "cell_type": "code",
      "source": [
        "pip install nltk"
      ],
      "metadata": {
        "colab": {
          "base_uri": "https://localhost:8080/"
        },
        "id": "4UwUe4wIUY19",
        "outputId": "140168ce-3267-43fc-e44f-9c3190a66517"
      },
      "execution_count": null,
      "outputs": [
        {
          "output_type": "stream",
          "name": "stdout",
          "text": [
            "Looking in indexes: https://pypi.org/simple, https://us-python.pkg.dev/colab-wheels/public/simple/\n",
            "Requirement already satisfied: nltk in /usr/local/lib/python3.7/dist-packages (3.7)\n",
            "Requirement already satisfied: regex>=2021.8.3 in /usr/local/lib/python3.7/dist-packages (from nltk) (2022.6.2)\n",
            "Requirement already satisfied: click in /usr/local/lib/python3.7/dist-packages (from nltk) (7.1.2)\n",
            "Requirement already satisfied: joblib in /usr/local/lib/python3.7/dist-packages (from nltk) (1.1.0)\n",
            "Requirement already satisfied: tqdm in /usr/local/lib/python3.7/dist-packages (from nltk) (4.64.0)\n"
          ]
        }
      ]
    },
    {
      "cell_type": "code",
      "source": [
        "# proses case folding\n",
        "def pre_process(text):\n",
        "  # lowercase\n",
        "  text = text.lower()\n",
        "  # tags\n",
        "  text = re.sub ('&lt;/?.*?&gt;','&lt;&gt;', text)\n",
        "  # spesial character and digits\n",
        "  text = re.sub ('(\\\\d|\\\\W)+',' ',text)\n",
        "\n",
        "  return text\n",
        "\n",
        "  Comment ['Review'] = Comment ['Review'].apply(lambda x:pre_process(x))\n",
        "  Comment.head ()\n"
      ],
      "metadata": {
        "id": "mR_z3JtejmeH"
      },
      "execution_count": null,
      "outputs": []
    },
    {
      "cell_type": "code",
      "source": [
        "# proses tokenizing\n",
        "from pandas._libs.tslibs.nattype import nat_strings\n",
        "def token(Comment):\n",
        "  nstr = Comment.split(' ')\n",
        "  dat = []\n",
        "  a = -1\n",
        "  for hu in nstr:\n",
        "    a = a+1\n",
        "    if hu == '':\n",
        "      dat.append(a)\n",
        "      p=0\n",
        "      b=0\n",
        "      for q in dat :\n",
        "        b= q-p\n",
        "        del nstr [b]\n",
        "        p = p+1\n",
        "        return nat_strings\n",
        "        Comment ['SaranDanMasukan'] = Comment ['SaranDanMasukan'].apply(token)\n",
        "        Comment.head()"
      ],
      "metadata": {
        "id": "nLzIVsAu8H0Z"
      },
      "execution_count": null,
      "outputs": []
    },
    {
      "cell_type": "code",
      "source": [
        "df['SaranDanMasukan'].apply (type)"
      ],
      "metadata": {
        "colab": {
          "base_uri": "https://localhost:8080/"
        },
        "id": "lqhADRANc_4P",
        "outputId": "b865cf37-328d-428c-83a3-f401e7335dbd"
      },
      "execution_count": null,
      "outputs": [
        {
          "output_type": "execute_result",
          "data": {
            "text/plain": [
              "0       <class 'str'>\n",
              "1       <class 'str'>\n",
              "2     <class 'float'>\n",
              "3       <class 'str'>\n",
              "4       <class 'str'>\n",
              "           ...       \n",
              "95      <class 'str'>\n",
              "96      <class 'str'>\n",
              "97      <class 'str'>\n",
              "98      <class 'str'>\n",
              "99      <class 'str'>\n",
              "Name: SaranDanMasukan, Length: 100, dtype: object"
            ]
          },
          "metadata": {},
          "execution_count": 7
        }
      ]
    },
    {
      "cell_type": "code",
      "source": [
        "df['SaranDanMasukan'].apply (type).value_counts()"
      ],
      "metadata": {
        "colab": {
          "base_uri": "https://localhost:8080/"
        },
        "id": "BvMCWITVeBol",
        "outputId": "299d8311-33a1-4da1-95b3-82ee8ba4cb36"
      },
      "execution_count": null,
      "outputs": [
        {
          "output_type": "execute_result",
          "data": {
            "text/plain": [
              "<class 'str'>      93\n",
              "<class 'float'>     7\n",
              "Name: SaranDanMasukan, dtype: int64"
            ]
          },
          "metadata": {},
          "execution_count": 9
        }
      ]
    },
    {
      "cell_type": "code",
      "source": [
        "df['SaranDanMasukan'] = df['SaranDanMasukan'].astype(str)"
      ],
      "metadata": {
        "id": "TwzugHEZd-zM"
      },
      "execution_count": null,
      "outputs": []
    },
    {
      "cell_type": "code",
      "source": [
        "df['SaranDanMasukan'].apply (type).value_counts()"
      ],
      "metadata": {
        "colab": {
          "base_uri": "https://localhost:8080/"
        },
        "id": "a9br_nopeWxi",
        "outputId": "52c033bc-ac56-4066-d719-0f3eacdc232e"
      },
      "execution_count": null,
      "outputs": [
        {
          "output_type": "execute_result",
          "data": {
            "text/plain": [
              "<class 'str'>    100\n",
              "Name: SaranDanMasukan, dtype: int64"
            ]
          },
          "metadata": {},
          "execution_count": 11
        }
      ]
    },
    {
      "cell_type": "code",
      "source": [
        "Comment = df['SaranDanMasukan']"
      ],
      "metadata": {
        "id": "MwaWze8Y1Nxr"
      },
      "execution_count": null,
      "outputs": []
    },
    {
      "cell_type": "code",
      "source": [
        "import nltk\n",
        "nltk.download('vader_lexicon')\n",
        "from nltk.sentiment.vader import SentimentIntensityAnalyzer\n",
        "#filename = df ['SaranDanMasukan']\n",
        "sent = SentimentIntensityAnalyzer()\n",
        "\n",
        "#data = pd.read_csv(Comment)\n",
        "pos = pd.Series ([])\n",
        "neu = pd.Series ([])\n",
        "neg = pd.Series ([])\n",
        "sen = pd.Series ([])\n",
        "\n",
        "for i in range(len(Comment)):\n",
        "  # print(Comment.iloc[i])\n",
        "  nilai_sentiment = sent.polarity_scores(Comment.iloc[i])\n",
        "  positive = nilai_sentiment['pos']\n",
        "  neutral = nilai_sentiment['neu']\n",
        "  negative = nilai_sentiment['neg']\n",
        "  pos[i] = positive\n",
        "  neu[i] = neutral\n",
        "  neg[i] = negative\n",
        "\n",
        "print(\"Nilai Rata Sentiment Positive :\")\n",
        "print(pos.mean())\n",
        "\n",
        "print(\"Nilai Rata Sentiment Neutral :\")\n",
        "print(neu.mean())\n",
        "\n",
        "print(\"Nilai Rata Sentiment Negative :\")\n",
        "print(neg.mean())\n"
      ],
      "metadata": {
        "colab": {
          "base_uri": "https://localhost:8080/"
        },
        "id": "IzJxk2EZo03J",
        "outputId": "e271fdff-ad45-47fd-d9ea-96ac9743af70"
      },
      "execution_count": null,
      "outputs": [
        {
          "output_type": "stream",
          "name": "stdout",
          "text": [
            "Nilai Rata Sentiment Positive :\n",
            "0.0\n",
            "Nilai Rata Sentiment Neutral :\n",
            "0.9073699999999999\n",
            "Nilai Rata Sentiment Negative :\n",
            "0.00263\n"
          ]
        },
        {
          "output_type": "stream",
          "name": "stderr",
          "text": [
            "[nltk_data] Downloading package vader_lexicon to /root/nltk_data...\n",
            "[nltk_data]   Package vader_lexicon is already up-to-date!\n",
            "/usr/local/lib/python3.7/dist-packages/ipykernel_launcher.py:8: DeprecationWarning:\n",
            "\n",
            "The default dtype for empty Series will be 'object' instead of 'float64' in a future version. Specify a dtype explicitly to silence this warning.\n",
            "\n",
            "/usr/local/lib/python3.7/dist-packages/ipykernel_launcher.py:9: DeprecationWarning:\n",
            "\n",
            "The default dtype for empty Series will be 'object' instead of 'float64' in a future version. Specify a dtype explicitly to silence this warning.\n",
            "\n",
            "/usr/local/lib/python3.7/dist-packages/ipykernel_launcher.py:10: DeprecationWarning:\n",
            "\n",
            "The default dtype for empty Series will be 'object' instead of 'float64' in a future version. Specify a dtype explicitly to silence this warning.\n",
            "\n",
            "/usr/local/lib/python3.7/dist-packages/ipykernel_launcher.py:11: DeprecationWarning:\n",
            "\n",
            "The default dtype for empty Series will be 'object' instead of 'float64' in a future version. Specify a dtype explicitly to silence this warning.\n",
            "\n"
          ]
        }
      ]
    },
    {
      "cell_type": "markdown",
      "source": [
        "#Ketertarikan peserta terhadap teknologi yang di pakai"
      ],
      "metadata": {
        "id": "O0VEsMOl96sr"
      }
    },
    {
      "cell_type": "code",
      "source": [
        "# Handling Missing Value [Apabila_anda_baru_mengikuti_apa_yang_menyebabkan_anda_tertarik_mengikuti]\n",
        "df.isna().sum()"
      ],
      "metadata": {
        "id": "fs2WGi1sAJpQ",
        "colab": {
          "base_uri": "https://localhost:8080/"
        },
        "outputId": "4a7cfabc-6c1d-4218-bcaf-d1aff8c0502b"
      },
      "execution_count": null,
      "outputs": [
        {
          "output_type": "execute_result",
          "data": {
            "text/plain": [
              "Timestamp                                                                                       0\n",
              "Nama_Lengkap                                                                                    0\n",
              "Alamat_Email                                                                                    0\n",
              "NoHp                                                                                            0\n",
              "Profesi/Pekerjaan                                                                               0\n",
              "Asal_Instansi                                                                                   0\n",
              "Umur                                                                                            0\n",
              "PendidikanTerakhir                                                                              0\n",
              "Dari_mana_anda_mengetahui_acara_ini                                                             0\n",
              "Media_yang_digunakan_dalam_mengikuti_acara_ini                                                  0\n",
              "Apakah_anda_sudah_pernah_mengikuti_acara_live_video_yang_diselenggarakan_pustaka_sebelumnya     0\n",
              "Apabila_jawaban_no_3_ya,sudah_berapa_kali_anda_mengikuti_acara_tersebut                        18\n",
              "Apabila_anda_baru_mengikuti_apa_yang_menyebabkan_anda_tertarik_mengikuti                        0\n",
              "Apa_manfaat_yang_dirasakan_setelah_mengikuti_acara_ini                                          0\n",
              "Materi_yang_disampaikan_bermanfaat                                                              0\n",
              "Materi_yang_disampaikan_sesuai_kebutuhan_anda                                                   0\n",
              "Penguasan_materi_oleh_narasumber                                                                0\n",
              "Rencana_yang_akan_dilakukan_setelah_mengikuti_acara_ini                                         0\n",
              "Kualitas_teknis_pelaksanaan_live_video_pertanian(suara,video,dll)                               0\n",
              "Saat_mengikuti_kegiatan_secara_daring_ini_apakah_ada_kendala_teknis_yang_anda_alami             0\n",
              "SaranDanMasukan                                                                                 7\n",
              "dtype: int64"
            ]
          },
          "metadata": {},
          "execution_count": 38
        }
      ]
    },
    {
      "cell_type": "code",
      "source": [
        "df ['Apabila_anda_baru_mengikuti_apa_yang_menyebabkan_anda_tertarik_mengikuti'] = df ['Apabila_anda_baru_mengikuti_apa_yang_menyebabkan_anda_tertarik_mengikuti'].fillna ('medium')"
      ],
      "metadata": {
        "id": "B6YdZOhhAkBi"
      },
      "execution_count": null,
      "outputs": []
    },
    {
      "cell_type": "code",
      "source": [
        "df['Apabila_anda_baru_mengikuti_apa_yang_menyebabkan_anda_tertarik_mengikuti'].isna().sum()"
      ],
      "metadata": {
        "id": "yRBJdVw1AxX7",
        "colab": {
          "base_uri": "https://localhost:8080/"
        },
        "outputId": "365cc65a-7c5d-4438-d916-15bfe90f71ff"
      },
      "execution_count": null,
      "outputs": [
        {
          "output_type": "execute_result",
          "data": {
            "text/plain": [
              "0"
            ]
          },
          "metadata": {},
          "execution_count": 35
        }
      ]
    },
    {
      "cell_type": "code",
      "source": [
        "# Data [Apabila_anda_baru_mengikuti_apa_yang_menyebabkan_anda_tertarik_mengikuti] sudah terisi\n",
        "df.isna().sum()"
      ],
      "metadata": {
        "id": "D4A1NGR9A7IK",
        "colab": {
          "base_uri": "https://localhost:8080/"
        },
        "outputId": "f4cf55ec-370c-400e-fb30-7c2dd8799009"
      },
      "execution_count": null,
      "outputs": [
        {
          "output_type": "execute_result",
          "data": {
            "text/plain": [
              "Timestamp                                                                                       0\n",
              "Nama_Lengkap                                                                                    0\n",
              "Alamat_Email                                                                                    0\n",
              "NoHp                                                                                            0\n",
              "Profesi/Pekerjaan                                                                               0\n",
              "Asal_Instansi                                                                                   0\n",
              "Umur                                                                                            0\n",
              "PendidikanTerakhir                                                                              0\n",
              "Dari_mana_anda_mengetahui_acara_ini                                                             0\n",
              "Media_yang_digunakan_dalam_mengikuti_acara_ini                                                  0\n",
              "Apakah_anda_sudah_pernah_mengikuti_acara_live_video_yang_diselenggarakan_pustaka_sebelumnya     0\n",
              "Apabila_jawaban_no_3_ya,sudah_berapa_kali_anda_mengikuti_acara_tersebut                        18\n",
              "Apabila_anda_baru_mengikuti_apa_yang_menyebabkan_anda_tertarik_mengikuti                        0\n",
              "Apa_manfaat_yang_dirasakan_setelah_mengikuti_acara_ini                                          0\n",
              "Materi_yang_disampaikan_bermanfaat                                                              0\n",
              "Materi_yang_disampaikan_sesuai_kebutuhan_anda                                                   0\n",
              "Penguasan_materi_oleh_narasumber                                                                0\n",
              "Rencana_yang_akan_dilakukan_setelah_mengikuti_acara_ini                                         0\n",
              "Kualitas_teknis_pelaksanaan_live_video_pertanian(suara,video,dll)                               0\n",
              "Saat_mengikuti_kegiatan_secara_daring_ini_apakah_ada_kendala_teknis_yang_anda_alami             0\n",
              "SaranDanMasukan                                                                                 7\n",
              "dtype: int64"
            ]
          },
          "metadata": {},
          "execution_count": 36
        }
      ]
    },
    {
      "cell_type": "code",
      "source": [
        "Modus = statistics.mode(df.Apabila_anda_baru_mengikuti_apa_yang_menyebabkan_anda_tertarik_mengikuti)\n",
        "Modus"
      ],
      "metadata": {
        "id": "MSzepwP1-BUE",
        "colab": {
          "base_uri": "https://localhost:8080/",
          "height": 35
        },
        "outputId": "d3d940d5-c47f-4884-d105-c1cb61a48275"
      },
      "execution_count": null,
      "outputs": [
        {
          "output_type": "execute_result",
          "data": {
            "text/plain": [
              "'medium'"
            ],
            "application/vnd.google.colaboratory.intrinsic+json": {
              "type": "string"
            }
          },
          "metadata": {},
          "execution_count": 37
        }
      ]
    },
    {
      "cell_type": "markdown",
      "source": [
        "#Media yang paling banyak digunakan untuk mengikuti acara"
      ],
      "metadata": {
        "id": "ItCMyTEw7f8K"
      }
    },
    {
      "cell_type": "code",
      "source": [
        "Modus = statistics.mode(df.Media_yang_digunakan_dalam_mengikuti_acara_ini)\n",
        "Modus"
      ],
      "metadata": {
        "id": "i8oCBbnOO6np",
        "colab": {
          "base_uri": "https://localhost:8080/",
          "height": 35
        },
        "outputId": "bbb9fa80-5da7-47e8-dd2b-b85106569b5f"
      },
      "execution_count": null,
      "outputs": [
        {
          "output_type": "execute_result",
          "data": {
            "text/plain": [
              "'Handphone'"
            ],
            "application/vnd.google.colaboratory.intrinsic+json": {
              "type": "string"
            }
          },
          "metadata": {},
          "execution_count": 29
        }
      ]
    },
    {
      "cell_type": "markdown",
      "source": [
        "#Kendala yang dihadapi kebanyakan peserta\n"
      ],
      "metadata": {
        "id": "01sxBcJ98j9P"
      }
    },
    {
      "cell_type": "code",
      "source": [
        "Modus = statistics.mode(df.Saat_mengikuti_kegiatan_secara_daring_ini_apakah_ada_kendala_teknis_yang_anda_alami)\n",
        "Modus\n"
      ],
      "metadata": {
        "id": "2ioujkETWJyR",
        "colab": {
          "base_uri": "https://localhost:8080/",
          "height": 35
        },
        "outputId": "261d2745-3ec6-44be-c87f-5caa5c1d2a74"
      },
      "execution_count": null,
      "outputs": [
        {
          "output_type": "execute_result",
          "data": {
            "text/plain": [
              "'Tidak'"
            ],
            "application/vnd.google.colaboratory.intrinsic+json": {
              "type": "string"
            }
          },
          "metadata": {},
          "execution_count": 30
        }
      ]
    },
    {
      "cell_type": "markdown",
      "source": [
        "# [Manfaat yang dirasakan setelah mengikuti acara ini] Dan [Rencana yang akan dilakukan setelah mengikuti acara ini]"
      ],
      "metadata": {
        "id": "kH5qKafULxWI"
      }
    },
    {
      "cell_type": "code",
      "source": [
        "df.groupby(by='Apa_manfaat_yang_dirasakan_setelah_mengikuti_acara_ini')['Apa_manfaat_yang_dirasakan_setelah_mengikuti_acara_ini'].count()"
      ],
      "metadata": {
        "colab": {
          "base_uri": "https://localhost:8080/"
        },
        "id": "qHIp9soINeCV",
        "outputId": "be96c3a8-d3cb-408c-9ad3-b7221a292f79"
      },
      "execution_count": null,
      "outputs": [
        {
          "output_type": "execute_result",
          "data": {
            "text/plain": [
              "Apa_manfaat_yang_dirasakan_setelah_mengikuti_acara_ini\n",
              "Menambah pengetahuan                            68\n",
              "Menunjang pekerjaan                             12\n",
              "Sangat membutuhkan materi yang dipaparkan       18\n",
              "Semuanya                                         1\n",
              "Wawasan, pengalaman dan tehnologi tepat guna     1\n",
              "Name: Apa_manfaat_yang_dirasakan_setelah_mengikuti_acara_ini, dtype: int64"
            ]
          },
          "metadata": {},
          "execution_count": 31
        }
      ]
    },
    {
      "cell_type": "code",
      "source": [
        "df.groupby(by='Rencana_yang_akan_dilakukan_setelah_mengikuti_acara_ini')['Rencana_yang_akan_dilakukan_setelah_mengikuti_acara_ini'].count()"
      ],
      "metadata": {
        "colab": {
          "base_uri": "https://localhost:8080/"
        },
        "id": "46F4-oKyZcUF",
        "outputId": "df96c09a-921e-4aec-89c2-7b915ae53e98"
      },
      "execution_count": null,
      "outputs": [
        {
          "output_type": "execute_result",
          "data": {
            "text/plain": [
              "Rencana_yang_akan_dilakukan_setelah_mengikuti_acara_ini\n",
              "Berpikir-pikir dulu untuk mempraktikan                          3\n",
              "Masih akan menambah pelatihan dan mengikuti acara yang lain    51\n",
              "Segera dipraktikan                                             34\n",
              "Sudah pernah dipraktikan                                       12\n",
              "Name: Rencana_yang_akan_dilakukan_setelah_mengikuti_acara_ini, dtype: int64"
            ]
          },
          "metadata": {},
          "execution_count": 32
        }
      ]
    }
  ]
}